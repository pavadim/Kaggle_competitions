{
 "cells": [
  {
   "cell_type": "markdown",
   "metadata": {},
   "source": [
    "# Bank Scoring Case\n",
    "### Predicting probability of default"
   ]
  },
  {
   "cell_type": "markdown",
   "metadata": {},
   "source": [
    "**The problem of credit scoring is being solved**\n"
   ]
  },
  {
   "cell_type": "markdown",
   "metadata": {},
   "source": [
    "Model fitting was done in this competition https://www.kaggle.com/c/scoring-case/overview"
   ]
  },
  {
   "cell_type": "markdown",
   "metadata": {},
   "source": [
    "Features descriprion:\n",
    "\n",
    "- age — age of the borrower\n",
    "- monthly_income — borrower's monthly income\n",
    "- credit_card_utilization — ratio of account balance to credit limit\n",
    "- debt_to_income — Debt-to-income Ratio\n",
    "- credits_loans - current number of loans and lines of credit\n",
    "- mortgage_loans - current number of mortgage loans\n",
    "- family_members - the number of members in the borrower's family\n",
    "- overdue_30_59_days - the number of previous delays in loan payments from 30 to 59 days\n",
    "- overdue_60_89_days — the number of previous loan overdue payments from 60 to 89 days\n",
    "- overdue__more_than_90_days — the number of previous overdue payments on the loan for more than 90 days\n",
    "- target - whether there was a delay in loan payments for more than 90 days - available only in the training sample"
   ]
  },
  {
   "cell_type": "code",
   "execution_count": 88,
   "metadata": {},
   "outputs": [],
   "source": [
    "import numpy as np\n",
    "import pandas as pd\n",
    "from sklearn.ensemble import RandomForestClassifier\n",
    "from sklearn.metrics import roc_auc_score\n",
    "from sklearn.metrics import roc_curve\n",
    "from sklearn.model_selection import GridSearchCV\n",
    "from sklearn.tree import DecisionTreeClassifier\n",
    "from sklearn.model_selection import StratifiedKFold\n",
    "from sklearn.model_selection import train_test_split\n",
    "from xgboost import XGBClassifier\n",
    "from sklearn.metrics import plot_confusion_matrix\n",
    "import xgboost as xgb\n",
    "from hyperopt import hp, tpe, fmin\n",
    "from sklearn.model_selection import cross_val_score\n",
    "import seaborn as sns\n",
    "from matplotlib import pyplot as plt\n",
    "import warnings\n",
    "warnings.filterwarnings('ignore')\n",
    "from scipy.stats import ttest_rel\n",
    "import copy\n",
    "from sklearn.ensemble import RandomForestClassifier\n",
    "from sklearn.metrics import roc_auc_score\n",
    "from sklearn.tree import DecisionTreeClassifier\n",
    "\n",
    "\n",
    "%matplotlib inline"
   ]
  },
  {
   "cell_type": "markdown",
   "metadata": {},
   "source": [
    "**Load data**"
   ]
  },
  {
   "cell_type": "code",
   "execution_count": 4,
   "metadata": {},
   "outputs": [],
   "source": [
    "train_df = pd.read_csv('C:\\\\Users\\\\pavlo\\\\Desktop\\\\Py\\\\VTB_project\\\\bank scoring case data 2019\\\\X_train.csv')\n",
    "test_df = pd.read_csv('C:\\\\Users\\\\pavlo\\\\Desktop\\\\Py\\\\VTB_project\\\\bank scoring case data 2019\\\\X_test.csv', index_col='index')\n",
    "y = pd.read_csv('C:\\\\Users\\\\pavlo\\\\Desktop\\\\Py\\\\VTB_project\\\\bank scoring case data 2019\\\\y_train.csv')"
   ]
  },
  {
   "cell_type": "code",
   "execution_count": 5,
   "metadata": {},
   "outputs": [],
   "source": [
    "test_sample = pd.read_csv('C:\\\\Users\\\\pavlo\\\\Desktop\\\\Py\\\\VTB_project\\\\bank scoring case data 2019\\\\y_test_sample.csv')"
   ]
  },
  {
   "cell_type": "markdown",
   "metadata": {},
   "source": [
    "## Brief EDA"
   ]
  },
  {
   "cell_type": "code",
   "execution_count": 6,
   "metadata": {},
   "outputs": [
    {
     "data": {
      "text/html": [
       "<div>\n",
       "<style scoped>\n",
       "    .dataframe tbody tr th:only-of-type {\n",
       "        vertical-align: middle;\n",
       "    }\n",
       "\n",
       "    .dataframe tbody tr th {\n",
       "        vertical-align: top;\n",
       "    }\n",
       "\n",
       "    .dataframe thead th {\n",
       "        text-align: right;\n",
       "    }\n",
       "</style>\n",
       "<table border=\"1\" class=\"dataframe\">\n",
       "  <thead>\n",
       "    <tr style=\"text-align: right;\">\n",
       "      <th></th>\n",
       "      <th>credit_card_utilization</th>\n",
       "      <th>age</th>\n",
       "      <th>overdue_30_59_days</th>\n",
       "      <th>debt_to_income</th>\n",
       "      <th>monthly_income</th>\n",
       "      <th>credits_loans</th>\n",
       "      <th>overdue__more_than_90_days</th>\n",
       "      <th>mortgage_loans</th>\n",
       "      <th>overdue_60_89_days</th>\n",
       "      <th>family_members</th>\n",
       "    </tr>\n",
       "  </thead>\n",
       "  <tbody>\n",
       "    <tr>\n",
       "      <th>count</th>\n",
       "      <td>105109.000000</td>\n",
       "      <td>105109.000000</td>\n",
       "      <td>105109.000000</td>\n",
       "      <td>105109.000000</td>\n",
       "      <td>8.411600e+04</td>\n",
       "      <td>105109.000000</td>\n",
       "      <td>105109.000000</td>\n",
       "      <td>105109.000000</td>\n",
       "      <td>105109.000000</td>\n",
       "      <td>102304.000000</td>\n",
       "    </tr>\n",
       "    <tr>\n",
       "      <th>mean</th>\n",
       "      <td>5.825173</td>\n",
       "      <td>53.321067</td>\n",
       "      <td>0.426643</td>\n",
       "      <td>354.188156</td>\n",
       "      <td>6.649725e+03</td>\n",
       "      <td>8.956255</td>\n",
       "      <td>0.269967</td>\n",
       "      <td>1.018514</td>\n",
       "      <td>0.244356</td>\n",
       "      <td>0.757096</td>\n",
       "    </tr>\n",
       "    <tr>\n",
       "      <th>std</th>\n",
       "      <td>251.021431</td>\n",
       "      <td>14.811007</td>\n",
       "      <td>4.251225</td>\n",
       "      <td>1827.184165</td>\n",
       "      <td>1.106504e+04</td>\n",
       "      <td>5.182715</td>\n",
       "      <td>4.227366</td>\n",
       "      <td>1.136228</td>\n",
       "      <td>4.214018</td>\n",
       "      <td>1.116525</td>\n",
       "    </tr>\n",
       "    <tr>\n",
       "      <th>min</th>\n",
       "      <td>0.000000</td>\n",
       "      <td>0.000000</td>\n",
       "      <td>0.000000</td>\n",
       "      <td>0.000000</td>\n",
       "      <td>0.000000e+00</td>\n",
       "      <td>0.000000</td>\n",
       "      <td>0.000000</td>\n",
       "      <td>0.000000</td>\n",
       "      <td>0.000000</td>\n",
       "      <td>0.000000</td>\n",
       "    </tr>\n",
       "    <tr>\n",
       "      <th>25%</th>\n",
       "      <td>0.029592</td>\n",
       "      <td>42.000000</td>\n",
       "      <td>0.000000</td>\n",
       "      <td>0.173670</td>\n",
       "      <td>3.343201e+03</td>\n",
       "      <td>5.000000</td>\n",
       "      <td>0.000000</td>\n",
       "      <td>0.000000</td>\n",
       "      <td>0.000000</td>\n",
       "      <td>0.000000</td>\n",
       "    </tr>\n",
       "    <tr>\n",
       "      <th>50%</th>\n",
       "      <td>0.153792</td>\n",
       "      <td>53.000000</td>\n",
       "      <td>0.000000</td>\n",
       "      <td>0.365047</td>\n",
       "      <td>5.361778e+03</td>\n",
       "      <td>8.000000</td>\n",
       "      <td>0.000000</td>\n",
       "      <td>1.000000</td>\n",
       "      <td>0.000000</td>\n",
       "      <td>0.000000</td>\n",
       "    </tr>\n",
       "    <tr>\n",
       "      <th>75%</th>\n",
       "      <td>0.554374</td>\n",
       "      <td>64.000000</td>\n",
       "      <td>0.000000</td>\n",
       "      <td>0.880882</td>\n",
       "      <td>8.207866e+03</td>\n",
       "      <td>12.000000</td>\n",
       "      <td>0.000000</td>\n",
       "      <td>2.000000</td>\n",
       "      <td>0.000000</td>\n",
       "      <td>1.000000</td>\n",
       "    </tr>\n",
       "    <tr>\n",
       "      <th>max</th>\n",
       "      <td>48779.730023</td>\n",
       "      <td>111.000000</td>\n",
       "      <td>98.000000</td>\n",
       "      <td>323248.210242</td>\n",
       "      <td>1.359526e+06</td>\n",
       "      <td>58.000000</td>\n",
       "      <td>98.000000</td>\n",
       "      <td>54.000000</td>\n",
       "      <td>98.000000</td>\n",
       "      <td>20.000000</td>\n",
       "    </tr>\n",
       "  </tbody>\n",
       "</table>\n",
       "</div>"
      ],
      "text/plain": [
       "       credit_card_utilization            age  overdue_30_59_days  \\\n",
       "count            105109.000000  105109.000000       105109.000000   \n",
       "mean                  5.825173      53.321067            0.426643   \n",
       "std                 251.021431      14.811007            4.251225   \n",
       "min                   0.000000       0.000000            0.000000   \n",
       "25%                   0.029592      42.000000            0.000000   \n",
       "50%                   0.153792      53.000000            0.000000   \n",
       "75%                   0.554374      64.000000            0.000000   \n",
       "max               48779.730023     111.000000           98.000000   \n",
       "\n",
       "       debt_to_income  monthly_income  credits_loans  \\\n",
       "count   105109.000000    8.411600e+04  105109.000000   \n",
       "mean       354.188156    6.649725e+03       8.956255   \n",
       "std       1827.184165    1.106504e+04       5.182715   \n",
       "min          0.000000    0.000000e+00       0.000000   \n",
       "25%          0.173670    3.343201e+03       5.000000   \n",
       "50%          0.365047    5.361778e+03       8.000000   \n",
       "75%          0.880882    8.207866e+03      12.000000   \n",
       "max     323248.210242    1.359526e+06      58.000000   \n",
       "\n",
       "       overdue__more_than_90_days  mortgage_loans  overdue_60_89_days  \\\n",
       "count               105109.000000   105109.000000       105109.000000   \n",
       "mean                     0.269967        1.018514            0.244356   \n",
       "std                      4.227366        1.136228            4.214018   \n",
       "min                      0.000000        0.000000            0.000000   \n",
       "25%                      0.000000        0.000000            0.000000   \n",
       "50%                      0.000000        1.000000            0.000000   \n",
       "75%                      0.000000        2.000000            0.000000   \n",
       "max                     98.000000       54.000000           98.000000   \n",
       "\n",
       "       family_members  \n",
       "count   102304.000000  \n",
       "mean         0.757096  \n",
       "std          1.116525  \n",
       "min          0.000000  \n",
       "25%          0.000000  \n",
       "50%          0.000000  \n",
       "75%          1.000000  \n",
       "max         20.000000  "
      ]
     },
     "execution_count": 6,
     "metadata": {},
     "output_type": "execute_result"
    }
   ],
   "source": [
    "train_df.describe()"
   ]
  },
  {
   "cell_type": "code",
   "execution_count": 7,
   "metadata": {},
   "outputs": [
    {
     "data": {
      "text/html": [
       "<div>\n",
       "<style scoped>\n",
       "    .dataframe tbody tr th:only-of-type {\n",
       "        vertical-align: middle;\n",
       "    }\n",
       "\n",
       "    .dataframe tbody tr th {\n",
       "        vertical-align: top;\n",
       "    }\n",
       "\n",
       "    .dataframe thead th {\n",
       "        text-align: right;\n",
       "    }\n",
       "</style>\n",
       "<table border=\"1\" class=\"dataframe\">\n",
       "  <thead>\n",
       "    <tr style=\"text-align: right;\">\n",
       "      <th></th>\n",
       "      <th>target</th>\n",
       "    </tr>\n",
       "  </thead>\n",
       "  <tbody>\n",
       "    <tr>\n",
       "      <th>count</th>\n",
       "      <td>105109.000000</td>\n",
       "    </tr>\n",
       "    <tr>\n",
       "      <th>mean</th>\n",
       "      <td>0.066892</td>\n",
       "    </tr>\n",
       "    <tr>\n",
       "      <th>std</th>\n",
       "      <td>0.249837</td>\n",
       "    </tr>\n",
       "    <tr>\n",
       "      <th>min</th>\n",
       "      <td>0.000000</td>\n",
       "    </tr>\n",
       "    <tr>\n",
       "      <th>25%</th>\n",
       "      <td>0.000000</td>\n",
       "    </tr>\n",
       "    <tr>\n",
       "      <th>50%</th>\n",
       "      <td>0.000000</td>\n",
       "    </tr>\n",
       "    <tr>\n",
       "      <th>75%</th>\n",
       "      <td>0.000000</td>\n",
       "    </tr>\n",
       "    <tr>\n",
       "      <th>max</th>\n",
       "      <td>1.000000</td>\n",
       "    </tr>\n",
       "  </tbody>\n",
       "</table>\n",
       "</div>"
      ],
      "text/plain": [
       "              target\n",
       "count  105109.000000\n",
       "mean        0.066892\n",
       "std         0.249837\n",
       "min         0.000000\n",
       "25%         0.000000\n",
       "50%         0.000000\n",
       "75%         0.000000\n",
       "max         1.000000"
      ]
     },
     "execution_count": 7,
     "metadata": {},
     "output_type": "execute_result"
    }
   ],
   "source": [
    "y.describe()"
   ]
  },
  {
   "cell_type": "code",
   "execution_count": 8,
   "metadata": {},
   "outputs": [
    {
     "data": {
      "text/html": [
       "<div>\n",
       "<style scoped>\n",
       "    .dataframe tbody tr th:only-of-type {\n",
       "        vertical-align: middle;\n",
       "    }\n",
       "\n",
       "    .dataframe tbody tr th {\n",
       "        vertical-align: top;\n",
       "    }\n",
       "\n",
       "    .dataframe thead th {\n",
       "        text-align: right;\n",
       "    }\n",
       "</style>\n",
       "<table border=\"1\" class=\"dataframe\">\n",
       "  <thead>\n",
       "    <tr style=\"text-align: right;\">\n",
       "      <th></th>\n",
       "      <th>credit_card_utilization</th>\n",
       "      <th>age</th>\n",
       "      <th>overdue_30_59_days</th>\n",
       "      <th>debt_to_income</th>\n",
       "      <th>monthly_income</th>\n",
       "      <th>credits_loans</th>\n",
       "      <th>overdue__more_than_90_days</th>\n",
       "      <th>mortgage_loans</th>\n",
       "      <th>overdue_60_89_days</th>\n",
       "      <th>family_members</th>\n",
       "    </tr>\n",
       "  </thead>\n",
       "  <tbody>\n",
       "    <tr>\n",
       "      <th>count</th>\n",
       "      <td>38876.000000</td>\n",
       "      <td>38876.000000</td>\n",
       "      <td>38876.000000</td>\n",
       "      <td>38876.000000</td>\n",
       "      <td>3.133100e+04</td>\n",
       "      <td>38876.000000</td>\n",
       "      <td>38876.000000</td>\n",
       "      <td>38876.000000</td>\n",
       "      <td>38876.000000</td>\n",
       "      <td>37921.000000</td>\n",
       "    </tr>\n",
       "    <tr>\n",
       "      <th>mean</th>\n",
       "      <td>7.143140</td>\n",
       "      <td>53.236238</td>\n",
       "      <td>0.406986</td>\n",
       "      <td>351.627896</td>\n",
       "      <td>6.726128e+03</td>\n",
       "      <td>8.946599</td>\n",
       "      <td>0.252598</td>\n",
       "      <td>1.017466</td>\n",
       "      <td>0.229808</td>\n",
       "      <td>0.759131</td>\n",
       "    </tr>\n",
       "    <tr>\n",
       "      <th>std</th>\n",
       "      <td>259.023345</td>\n",
       "      <td>14.772393</td>\n",
       "      <td>4.023815</td>\n",
       "      <td>2545.254355</td>\n",
       "      <td>2.116051e+04</td>\n",
       "      <td>5.153647</td>\n",
       "      <td>3.999838</td>\n",
       "      <td>1.113531</td>\n",
       "      <td>3.985055</td>\n",
       "      <td>1.112832</td>\n",
       "    </tr>\n",
       "    <tr>\n",
       "      <th>min</th>\n",
       "      <td>0.000000</td>\n",
       "      <td>21.000000</td>\n",
       "      <td>0.000000</td>\n",
       "      <td>0.000000</td>\n",
       "      <td>0.000000e+00</td>\n",
       "      <td>0.000000</td>\n",
       "      <td>0.000000</td>\n",
       "      <td>0.000000</td>\n",
       "      <td>0.000000</td>\n",
       "      <td>0.000000</td>\n",
       "    </tr>\n",
       "    <tr>\n",
       "      <th>25%</th>\n",
       "      <td>0.029097</td>\n",
       "      <td>42.000000</td>\n",
       "      <td>0.000000</td>\n",
       "      <td>0.170806</td>\n",
       "      <td>3.349846e+03</td>\n",
       "      <td>5.000000</td>\n",
       "      <td>0.000000</td>\n",
       "      <td>0.000000</td>\n",
       "      <td>0.000000</td>\n",
       "      <td>0.000000</td>\n",
       "    </tr>\n",
       "    <tr>\n",
       "      <th>50%</th>\n",
       "      <td>0.152136</td>\n",
       "      <td>53.000000</td>\n",
       "      <td>0.000000</td>\n",
       "      <td>0.361875</td>\n",
       "      <td>5.339619e+03</td>\n",
       "      <td>8.000000</td>\n",
       "      <td>0.000000</td>\n",
       "      <td>1.000000</td>\n",
       "      <td>0.000000</td>\n",
       "      <td>0.000000</td>\n",
       "    </tr>\n",
       "    <tr>\n",
       "      <th>75%</th>\n",
       "      <td>0.558911</td>\n",
       "      <td>64.000000</td>\n",
       "      <td>0.000000</td>\n",
       "      <td>0.843592</td>\n",
       "      <td>8.264207e+03</td>\n",
       "      <td>12.000000</td>\n",
       "      <td>0.000000</td>\n",
       "      <td>2.000000</td>\n",
       "      <td>0.000000</td>\n",
       "      <td>1.000000</td>\n",
       "    </tr>\n",
       "    <tr>\n",
       "      <th>max</th>\n",
       "      <td>32131.063581</td>\n",
       "      <td>110.000000</td>\n",
       "      <td>98.000000</td>\n",
       "      <td>349464.845051</td>\n",
       "      <td>3.117341e+06</td>\n",
       "      <td>56.000000</td>\n",
       "      <td>98.000000</td>\n",
       "      <td>23.000000</td>\n",
       "      <td>98.000000</td>\n",
       "      <td>9.000000</td>\n",
       "    </tr>\n",
       "  </tbody>\n",
       "</table>\n",
       "</div>"
      ],
      "text/plain": [
       "       credit_card_utilization           age  overdue_30_59_days  \\\n",
       "count             38876.000000  38876.000000        38876.000000   \n",
       "mean                  7.143140     53.236238            0.406986   \n",
       "std                 259.023345     14.772393            4.023815   \n",
       "min                   0.000000     21.000000            0.000000   \n",
       "25%                   0.029097     42.000000            0.000000   \n",
       "50%                   0.152136     53.000000            0.000000   \n",
       "75%                   0.558911     64.000000            0.000000   \n",
       "max               32131.063581    110.000000           98.000000   \n",
       "\n",
       "       debt_to_income  monthly_income  credits_loans  \\\n",
       "count    38876.000000    3.133100e+04   38876.000000   \n",
       "mean       351.627896    6.726128e+03       8.946599   \n",
       "std       2545.254355    2.116051e+04       5.153647   \n",
       "min          0.000000    0.000000e+00       0.000000   \n",
       "25%          0.170806    3.349846e+03       5.000000   \n",
       "50%          0.361875    5.339619e+03       8.000000   \n",
       "75%          0.843592    8.264207e+03      12.000000   \n",
       "max     349464.845051    3.117341e+06      56.000000   \n",
       "\n",
       "       overdue__more_than_90_days  mortgage_loans  overdue_60_89_days  \\\n",
       "count                38876.000000    38876.000000        38876.000000   \n",
       "mean                     0.252598        1.017466            0.229808   \n",
       "std                      3.999838        1.113531            3.985055   \n",
       "min                      0.000000        0.000000            0.000000   \n",
       "25%                      0.000000        0.000000            0.000000   \n",
       "50%                      0.000000        1.000000            0.000000   \n",
       "75%                      0.000000        2.000000            0.000000   \n",
       "max                     98.000000       23.000000           98.000000   \n",
       "\n",
       "       family_members  \n",
       "count    37921.000000  \n",
       "mean         0.759131  \n",
       "std          1.112832  \n",
       "min          0.000000  \n",
       "25%          0.000000  \n",
       "50%          0.000000  \n",
       "75%          1.000000  \n",
       "max          9.000000  "
      ]
     },
     "execution_count": 8,
     "metadata": {},
     "output_type": "execute_result"
    }
   ],
   "source": [
    "test_df.describe()"
   ]
  },
  {
   "cell_type": "markdown",
   "metadata": {},
   "source": [
    "**Concatenate train and test datasets**"
   ]
  },
  {
   "cell_type": "code",
   "execution_count": 9,
   "metadata": {},
   "outputs": [
    {
     "data": {
      "text/html": [
       "<div>\n",
       "<style scoped>\n",
       "    .dataframe tbody tr th:only-of-type {\n",
       "        vertical-align: middle;\n",
       "    }\n",
       "\n",
       "    .dataframe tbody tr th {\n",
       "        vertical-align: top;\n",
       "    }\n",
       "\n",
       "    .dataframe thead th {\n",
       "        text-align: right;\n",
       "    }\n",
       "</style>\n",
       "<table border=\"1\" class=\"dataframe\">\n",
       "  <thead>\n",
       "    <tr style=\"text-align: right;\">\n",
       "      <th></th>\n",
       "      <th>credit_card_utilization</th>\n",
       "      <th>age</th>\n",
       "      <th>overdue_30_59_days</th>\n",
       "      <th>debt_to_income</th>\n",
       "      <th>monthly_income</th>\n",
       "      <th>credits_loans</th>\n",
       "      <th>overdue__more_than_90_days</th>\n",
       "      <th>mortgage_loans</th>\n",
       "      <th>overdue_60_89_days</th>\n",
       "      <th>family_members</th>\n",
       "      <th>target</th>\n",
       "    </tr>\n",
       "  </thead>\n",
       "  <tbody>\n",
       "    <tr>\n",
       "      <th>0</th>\n",
       "      <td>0.000000</td>\n",
       "      <td>56</td>\n",
       "      <td>0</td>\n",
       "      <td>0.504328</td>\n",
       "      <td>6823.894458</td>\n",
       "      <td>9</td>\n",
       "      <td>0</td>\n",
       "      <td>1</td>\n",
       "      <td>0</td>\n",
       "      <td>5.0</td>\n",
       "      <td>0</td>\n",
       "    </tr>\n",
       "    <tr>\n",
       "      <th>1</th>\n",
       "      <td>0.170659</td>\n",
       "      <td>45</td>\n",
       "      <td>1</td>\n",
       "      <td>2.405860</td>\n",
       "      <td>356.580765</td>\n",
       "      <td>5</td>\n",
       "      <td>0</td>\n",
       "      <td>0</td>\n",
       "      <td>0</td>\n",
       "      <td>0.0</td>\n",
       "      <td>0</td>\n",
       "    </tr>\n",
       "    <tr>\n",
       "      <th>2</th>\n",
       "      <td>0.342176</td>\n",
       "      <td>75</td>\n",
       "      <td>1</td>\n",
       "      <td>0.445066</td>\n",
       "      <td>20349.895825</td>\n",
       "      <td>9</td>\n",
       "      <td>0</td>\n",
       "      <td>3</td>\n",
       "      <td>0</td>\n",
       "      <td>0.0</td>\n",
       "      <td>0</td>\n",
       "    </tr>\n",
       "    <tr>\n",
       "      <th>3</th>\n",
       "      <td>0.046219</td>\n",
       "      <td>50</td>\n",
       "      <td>0</td>\n",
       "      <td>0.814508</td>\n",
       "      <td>2894.368968</td>\n",
       "      <td>12</td>\n",
       "      <td>0</td>\n",
       "      <td>1</td>\n",
       "      <td>0</td>\n",
       "      <td>3.0</td>\n",
       "      <td>0</td>\n",
       "    </tr>\n",
       "    <tr>\n",
       "      <th>4</th>\n",
       "      <td>0.679556</td>\n",
       "      <td>58</td>\n",
       "      <td>0</td>\n",
       "      <td>0.390311</td>\n",
       "      <td>24833.227614</td>\n",
       "      <td>15</td>\n",
       "      <td>0</td>\n",
       "      <td>4</td>\n",
       "      <td>0</td>\n",
       "      <td>2.0</td>\n",
       "      <td>0</td>\n",
       "    </tr>\n",
       "    <tr>\n",
       "      <th>...</th>\n",
       "      <td>...</td>\n",
       "      <td>...</td>\n",
       "      <td>...</td>\n",
       "      <td>...</td>\n",
       "      <td>...</td>\n",
       "      <td>...</td>\n",
       "      <td>...</td>\n",
       "      <td>...</td>\n",
       "      <td>...</td>\n",
       "      <td>...</td>\n",
       "      <td>...</td>\n",
       "    </tr>\n",
       "    <tr>\n",
       "      <th>105104</th>\n",
       "      <td>0.017608</td>\n",
       "      <td>62</td>\n",
       "      <td>0</td>\n",
       "      <td>0.184589</td>\n",
       "      <td>9928.125255</td>\n",
       "      <td>6</td>\n",
       "      <td>0</td>\n",
       "      <td>2</td>\n",
       "      <td>0</td>\n",
       "      <td>0.0</td>\n",
       "      <td>0</td>\n",
       "    </tr>\n",
       "    <tr>\n",
       "      <th>105105</th>\n",
       "      <td>0.980631</td>\n",
       "      <td>25</td>\n",
       "      <td>0</td>\n",
       "      <td>0.158753</td>\n",
       "      <td>2187.355843</td>\n",
       "      <td>3</td>\n",
       "      <td>0</td>\n",
       "      <td>0</td>\n",
       "      <td>0</td>\n",
       "      <td>0.0</td>\n",
       "      <td>0</td>\n",
       "    </tr>\n",
       "    <tr>\n",
       "      <th>105106</th>\n",
       "      <td>0.050256</td>\n",
       "      <td>73</td>\n",
       "      <td>1</td>\n",
       "      <td>0.849711</td>\n",
       "      <td>3961.841113</td>\n",
       "      <td>12</td>\n",
       "      <td>0</td>\n",
       "      <td>2</td>\n",
       "      <td>0</td>\n",
       "      <td>0.0</td>\n",
       "      <td>0</td>\n",
       "    </tr>\n",
       "    <tr>\n",
       "      <th>105107</th>\n",
       "      <td>0.447882</td>\n",
       "      <td>43</td>\n",
       "      <td>0</td>\n",
       "      <td>0.068033</td>\n",
       "      <td>3705.546719</td>\n",
       "      <td>4</td>\n",
       "      <td>0</td>\n",
       "      <td>0</td>\n",
       "      <td>1</td>\n",
       "      <td>0.0</td>\n",
       "      <td>0</td>\n",
       "    </tr>\n",
       "    <tr>\n",
       "      <th>105108</th>\n",
       "      <td>0.563791</td>\n",
       "      <td>50</td>\n",
       "      <td>1</td>\n",
       "      <td>0.285641</td>\n",
       "      <td>6660.238215</td>\n",
       "      <td>13</td>\n",
       "      <td>0</td>\n",
       "      <td>3</td>\n",
       "      <td>0</td>\n",
       "      <td>1.0</td>\n",
       "      <td>0</td>\n",
       "    </tr>\n",
       "  </tbody>\n",
       "</table>\n",
       "<p>105109 rows × 11 columns</p>\n",
       "</div>"
      ],
      "text/plain": [
       "        credit_card_utilization  age  overdue_30_59_days  debt_to_income  \\\n",
       "0                      0.000000   56                   0        0.504328   \n",
       "1                      0.170659   45                   1        2.405860   \n",
       "2                      0.342176   75                   1        0.445066   \n",
       "3                      0.046219   50                   0        0.814508   \n",
       "4                      0.679556   58                   0        0.390311   \n",
       "...                         ...  ...                 ...             ...   \n",
       "105104                 0.017608   62                   0        0.184589   \n",
       "105105                 0.980631   25                   0        0.158753   \n",
       "105106                 0.050256   73                   1        0.849711   \n",
       "105107                 0.447882   43                   0        0.068033   \n",
       "105108                 0.563791   50                   1        0.285641   \n",
       "\n",
       "        monthly_income  credits_loans  overdue__more_than_90_days  \\\n",
       "0          6823.894458              9                           0   \n",
       "1           356.580765              5                           0   \n",
       "2         20349.895825              9                           0   \n",
       "3          2894.368968             12                           0   \n",
       "4         24833.227614             15                           0   \n",
       "...                ...            ...                         ...   \n",
       "105104     9928.125255              6                           0   \n",
       "105105     2187.355843              3                           0   \n",
       "105106     3961.841113             12                           0   \n",
       "105107     3705.546719              4                           0   \n",
       "105108     6660.238215             13                           0   \n",
       "\n",
       "        mortgage_loans  overdue_60_89_days  family_members  target  \n",
       "0                    1                   0             5.0       0  \n",
       "1                    0                   0             0.0       0  \n",
       "2                    3                   0             0.0       0  \n",
       "3                    1                   0             3.0       0  \n",
       "4                    4                   0             2.0       0  \n",
       "...                ...                 ...             ...     ...  \n",
       "105104               2                   0             0.0       0  \n",
       "105105               0                   0             0.0       0  \n",
       "105106               2                   0             0.0       0  \n",
       "105107               0                   1             0.0       0  \n",
       "105108               3                   0             1.0       0  \n",
       "\n",
       "[105109 rows x 11 columns]"
      ]
     },
     "execution_count": 9,
     "metadata": {},
     "output_type": "execute_result"
    }
   ],
   "source": [
    "data_train = copy.copy(train_df)\n",
    "data_train['target'] = y\n",
    "data_train"
   ]
  },
  {
   "cell_type": "markdown",
   "metadata": {},
   "source": [
    "**Distributions of features with histograms and boxplots**"
   ]
  },
  {
   "cell_type": "code",
   "execution_count": 10,
   "metadata": {},
   "outputs": [],
   "source": [
    "features = ['credit_card_utilization', 'age', 'overdue_30_59_days', 'debt_to_income', 'monthly_income', 'credits_loans', \n",
    "           'overdue__more_than_90_days', 'mortgage_loans', 'overdue_60_89_days', 'family_members']"
   ]
  },
  {
   "cell_type": "code",
   "execution_count": 11,
   "metadata": {},
   "outputs": [],
   "source": [
    "features = ['credit_card_utilization', 'age', 'overdue_30_59_days', 'debt_to_income']"
   ]
  },
  {
   "cell_type": "code",
   "execution_count": 238,
   "metadata": {},
   "outputs": [
    {
     "data": {
      "image/png": "[encoded data removed]",
      "text/plain": [
       "<Figure size 432x288 with 1 Axes>"
      ]
     },
     "metadata": {
      "needs_background": "light"
     },
     "output_type": "display_data"
    }
   ],
   "source": [
    "# credit_card_utilization\n",
    "\n",
    "plt.hist(data=train_df, x='credit_card_utilization', density=True, bins=30)  # density=False would make counts\n",
    "plt.ylabel('num_of_people')\n",
    "plt.xlabel('credit_card_utilization');\n",
    "#plt.ylim(0, 106000)"
   ]
  },
  {
   "cell_type": "code",
   "execution_count": 239,
   "metadata": {},
   "outputs": [
    {
     "data": {
      "image/png": "[encoded data removed]",
      "text/plain": [
       "<Figure size 432x288 with 1 Axes>"
      ]
     },
     "metadata": {},
     "output_type": "display_data"
    }
   ],
   "source": [
    "# credit_card_utilization scale 0-100\n",
    "\n",
    "sns.set_style(\"whitegrid\")\n",
    "ax = sns.boxplot(x=\"target\", y=\"credit_card_utilization\", data=data_train)\n",
    "ax.set(ylim=(0, 100))\n",
    "sns.set(rc = {'figure.figsize':(12,5)})"
   ]
  },
  {
   "cell_type": "code",
   "execution_count": 240,
   "metadata": {},
   "outputs": [
    {
     "data": {
      "image/png": "[encoded data removed]",
      "text/plain": [
       "<Figure size 864x360 with 1 Axes>"
      ]
     },
     "metadata": {},
     "output_type": "display_data"
    }
   ],
   "source": [
    "# credit_card_utilization scale 0-20\n",
    "\n",
    "sns.set_style(\"whitegrid\")\n",
    "ax = sns.boxplot(x=\"target\", y=\"credit_card_utilization\", data=data_train)\n",
    "ax.set(ylim=(0, 20))\n",
    "sns.set(rc = {'figure.figsize':(12,5)})"
   ]
  },
  {
   "cell_type": "code",
   "execution_count": 241,
   "metadata": {},
   "outputs": [
    {
     "data": {
      "text/plain": [
       "[Text(0.5, 0, 'overdue_30_59_days'), Text(0, 0.5, 'amount_of_people')]"
      ]
     },
     "execution_count": 241,
     "metadata": {},
     "output_type": "execute_result"
    },
    {
     "data": {
      "image/png": "[encoded data removed]",
      "text/plain": [
       "<Figure size 864x360 with 1 Axes>"
      ]
     },
     "metadata": {},
     "output_type": "display_data"
    }
   ],
   "source": [
    "# overdue_30_59_days\n",
    "\n",
    "sns.set_style(\"whitegrid\")\n",
    "ax = sns.histplot(data=data_train, x=\"overdue_30_59_days\")\n",
    "sns.set(rc = {'figure.figsize':(5,5)})\n",
    "ax.set(xlabel='overdue_30_59_days', ylabel='amount_of_people')"
   ]
  },
  {
   "cell_type": "code",
   "execution_count": 245,
   "metadata": {},
   "outputs": [
    {
     "data": {
      "image/png": "[encoded data removed]",
      "text/plain": [
       "<Figure size 360x360 with 1 Axes>"
      ]
     },
     "metadata": {},
     "output_type": "display_data"
    }
   ],
   "source": [
    "# overdue_30_59_days scale 0-100\n",
    "\n",
    "sns.set_style(\"whitegrid\")\n",
    "ax = sns.boxplot(x=\"target\", y=\"overdue_30_59_days\", data=data_train)\n",
    "ax.set(ylim=(0, 100))\n",
    "sns.set(rc = {'figure.figsize':(12,5)})"
   ]
  },
  {
   "cell_type": "code",
   "execution_count": 246,
   "metadata": {},
   "outputs": [
    {
     "data": {
      "image/png": "[encoded data removed]",
      "text/plain": [
       "<Figure size 864x360 with 1 Axes>"
      ]
     },
     "metadata": {},
     "output_type": "display_data"
    }
   ],
   "source": [
    "# overdue_30_59_days scale 0-20\n",
    "\n",
    "sns.set_style(\"whitegrid\")\n",
    "ax = sns.boxplot(x=\"target\", y=\"overdue_30_59_days\", data=data_train)\n",
    "ax.set(ylim=(0, 20))\n",
    "sns.set(rc = {'figure.figsize':(5,5)})"
   ]
  },
  {
   "cell_type": "code",
   "execution_count": 244,
   "metadata": {},
   "outputs": [
    {
     "data": {
      "image/png": "[encoded data removed]",
      "text/plain": [
       "<Figure size 360x360 with 1 Axes>"
      ]
     },
     "metadata": {},
     "output_type": "display_data"
    }
   ],
   "source": [
    "# debt_to_income scale 0-300000\n",
    "\n",
    "sns.set_style(\"whitegrid\")\n",
    "ax = sns.boxplot(x=\"target\", y=\"debt_to_income\", data=data_train)\n",
    "sns.set(rc = {'figure.figsize':(5,5)})"
   ]
  },
  {
   "cell_type": "code",
   "execution_count": 197,
   "metadata": {},
   "outputs": [
    {
     "data": {
      "image/png": "[encoded data removed]",
      "text/plain": [
       "<Figure size 360x360 with 1 Axes>"
      ]
     },
     "metadata": {},
     "output_type": "display_data"
    }
   ],
   "source": [
    "# debt_to_income scale 0-10\n",
    "\n",
    "sns.set_style(\"whitegrid\")\n",
    "ax = sns.boxplot(x=\"target\", y=\"debt_to_income\", data=data_train)\n",
    "ax.set(ylim=(0, 10))\n",
    "sns.set(rc = {'figure.figsize':(5,5)})"
   ]
  },
  {
   "cell_type": "code",
   "execution_count": 200,
   "metadata": {},
   "outputs": [
    {
     "data": {
      "image/png": "[encoded data removed]",
      "text/plain": [
       "<Figure size 360x360 with 1 Axes>"
      ]
     },
     "metadata": {},
     "output_type": "display_data"
    }
   ],
   "source": [
    "# monthly_income scale 0-800000\n",
    "\n",
    "sns.set_style(\"whitegrid\")\n",
    "ax = sns.boxplot(x=\"target\", y=\"monthly_income\", data=data_train)\n",
    "ax.set(ylim=(0, 800000))\n",
    "sns.set(rc = {'figure.figsize':(5,5)})"
   ]
  },
  {
   "cell_type": "code",
   "execution_count": 199,
   "metadata": {},
   "outputs": [
    {
     "data": {
      "image/png": "[encoded data removed]",
      "text/plain": [
       "<Figure size 360x360 with 1 Axes>"
      ]
     },
     "metadata": {},
     "output_type": "display_data"
    }
   ],
   "source": [
    "# monthly_income scale 0-10000\n",
    "\n",
    "sns.set_style(\"whitegrid\")\n",
    "ax = sns.boxplot(x=\"target\", y=\"monthly_income\", data=data_train)\n",
    "ax.set(ylim=(0, 20000))\n",
    "sns.set(rc = {'figure.figsize':(5,5)})"
   ]
  },
  {
   "cell_type": "code",
   "execution_count": 177,
   "metadata": {},
   "outputs": [
    {
     "data": {
      "image/png": "[encoded data removed]",
      "text/plain": [
       "<Figure size 360x360 with 1 Axes>"
      ]
     },
     "metadata": {},
     "output_type": "display_data"
    }
   ],
   "source": [
    "# credits_loans\n",
    "\n",
    "sns.set_style(\"whitegrid\")\n",
    "ax = sns.boxplot(x=\"target\", y=\"credits_loans\", data=data_train)\n",
    "# ax.set(ylim=(0, 0.8e+06))\n",
    "sns.set(rc = {'figure.figsize':(5,5)})"
   ]
  },
  {
   "cell_type": "code",
   "execution_count": 192,
   "metadata": {},
   "outputs": [
    {
     "data": {
      "text/plain": [
       "[(0.0, 35.0)]"
      ]
     },
     "execution_count": 192,
     "metadata": {},
     "output_type": "execute_result"
    },
    {
     "data": {
      "image/png": "[encoded data removed]",
      "text/plain": [
       "<Figure size 360x360 with 1 Axes>"
      ]
     },
     "metadata": {},
     "output_type": "display_data"
    }
   ],
   "source": [
    "# credits_loans\n",
    "\n",
    "sns.set_style(\"whitegrid\")\n",
    "ax = sns.histplot(data=train_df, x=\"credits_loans\")\n",
    "sns.set(rc = {'figure.figsize':(5,5)})\n",
    "ax.set(xlabel='credits_loans', ylabel='amount_of_people')\n",
    "ax.set(xlim=(0, 35))"
   ]
  },
  {
   "cell_type": "code",
   "execution_count": 218,
   "metadata": {},
   "outputs": [
    {
     "data": {
      "image/png": "[encoded data removed]",
      "text/plain": [
       "<Figure size 864x360 with 1 Axes>"
      ]
     },
     "metadata": {},
     "output_type": "display_data"
    }
   ],
   "source": [
    "# overdue__more_than_90_days scale 0-100\n",
    "\n",
    "sns.set_style(\"whitegrid\")\n",
    "ax = sns.boxplot(x=\"target\", y=\"overdue__more_than_90_days\", data=data_train)\n",
    "# ax.set(ylim=(0, 0.8e+06))\n",
    "sns.set(rc = {'figure.figsize':(5,5)})"
   ]
  },
  {
   "cell_type": "code",
   "execution_count": 219,
   "metadata": {},
   "outputs": [
    {
     "data": {
      "image/png": "[encoded data removed]",
      "text/plain": [
       "<Figure size 360x360 with 1 Axes>"
      ]
     },
     "metadata": {},
     "output_type": "display_data"
    }
   ],
   "source": [
    "# overdue__more_than_90_days scale 0-20\n",
    "\n",
    "sns.set_style(\"whitegrid\")\n",
    "ax = sns.boxplot(x=\"target\", y=\"overdue__more_than_90_days\", data=data_train)\n",
    "ax.set(ylim=(0, 20))\n",
    "sns.set(rc = {'figure.figsize':(5,5)})"
   ]
  },
  {
   "cell_type": "code",
   "execution_count": 190,
   "metadata": {},
   "outputs": [
    {
     "data": {
      "text/plain": [
       "[(0.0, 35.0)]"
      ]
     },
     "execution_count": 190,
     "metadata": {},
     "output_type": "execute_result"
    },
    {
     "data": {
      "image/png": "[encoded data removed]",
      "text/plain": [
       "<Figure size 360x360 with 1 Axes>"
      ]
     },
     "metadata": {},
     "output_type": "display_data"
    }
   ],
   "source": [
    "# overdue__more_than_90_days\n",
    "\n",
    "sns.set_style(\"whitegrid\")\n",
    "ax = sns.histplot(data=train_df, x=\"credits_loans\")\n",
    "sns.set(rc = {'figure.figsize':(5,5)})\n",
    "ax.set(xlabel='overdue__more_than_90_days', ylabel='amount_of_people')\n",
    "ax.set(xlim=(0, 35))"
   ]
  },
  {
   "cell_type": "code",
   "execution_count": 201,
   "metadata": {},
   "outputs": [
    {
     "data": {
      "image/png": "[encoded data removed]",
      "text/plain": [
       "<Figure size 360x360 with 1 Axes>"
      ]
     },
     "metadata": {},
     "output_type": "display_data"
    }
   ],
   "source": [
    "# mortgage_loans scale 0-100\n",
    "\n",
    "sns.set_style(\"whitegrid\")\n",
    "ax = sns.boxplot(x=\"target\", y=\"overdue__more_than_90_days\", data=data_train)\n",
    "#ax.set(ylim=(0, 20))\n",
    "sns.set(rc = {'figure.figsize':(5,5)})"
   ]
  },
  {
   "cell_type": "code",
   "execution_count": 208,
   "metadata": {},
   "outputs": [
    {
     "data": {
      "image/png": "[encoded data removed]",
      "text/plain": [
       "<Figure size 360x360 with 1 Axes>"
      ]
     },
     "metadata": {},
     "output_type": "display_data"
    }
   ],
   "source": [
    "# mortgage_loans scale 0-20\n",
    "\n",
    "sns.set_style(\"whitegrid\")\n",
    "ax = sns.boxplot(x=\"target\", y=\"overdue__more_than_90_days\", data=data_train)\n",
    "ax.set(ylim=(0, 20))\n",
    "sns.set(rc = {'figure.figsize':(5,5)})"
   ]
  },
  {
   "cell_type": "code",
   "execution_count": 209,
   "metadata": {},
   "outputs": [
    {
     "data": {
      "image/png": "[encoded data removed]",
      "text/plain": [
       "<Figure size 360x360 with 1 Axes>"
      ]
     },
     "metadata": {},
     "output_type": "display_data"
    }
   ],
   "source": [
    "# overdue_60_89_days scale 0-100\n",
    "\n",
    "sns.set_style(\"whitegrid\")\n",
    "ax = sns.boxplot(x=\"target\", y=\"overdue__more_than_90_days\", data=data_train)\n",
    "# ax.set(ylim=(0, 20))\n",
    "sns.set(rc = {'figure.figsize':(5,5)})"
   ]
  },
  {
   "cell_type": "code",
   "execution_count": 211,
   "metadata": {},
   "outputs": [
    {
     "data": {
      "image/png": "[encoded data removed]",
      "text/plain": [
       "<Figure size 360x360 with 1 Axes>"
      ]
     },
     "metadata": {},
     "output_type": "display_data"
    }
   ],
   "source": [
    "# overdue_60_89_days scale 0-20\n",
    "\n",
    "sns.set_style(\"whitegrid\")\n",
    "ax = sns.boxplot(x=\"target\", y=\"overdue__more_than_90_days\", data=data_train)\n",
    "ax.set(ylim=(0, 20))\n",
    "sns.set(rc = {'figure.figsize':(5,5)})"
   ]
  },
  {
   "cell_type": "code",
   "execution_count": 221,
   "metadata": {},
   "outputs": [
    {
     "data": {
      "image/png": "[encoded data removed]",
      "text/plain": [
       "<Figure size 360x360 with 1 Axes>"
      ]
     },
     "metadata": {},
     "output_type": "display_data"
    }
   ],
   "source": [
    "# family_members scale 0-20\n",
    "\n",
    "sns.set_style(\"whitegrid\")\n",
    "ax = sns.boxplot(x=\"target\", y=\"family_members\", data=data_train)\n",
    "# ax.set(ylim=(0, 20))\n",
    "sns.set(rc = {'figure.figsize':(5,5)})\n",
    "# plt.xlim(0, 10)"
   ]
  },
  {
   "cell_type": "markdown",
   "metadata": {},
   "source": [
    "**There are 13 times fewer defaulted clients than non-defaulted ones** \n",
    "\n",
    "**This was taken into account when the XGB model was implemented**"
   ]
  },
  {
   "cell_type": "code",
   "execution_count": 225,
   "metadata": {},
   "outputs": [
    {
     "name": "stdout",
     "output_type": "stream",
     "text": [
      "13.949367088607595\n"
     ]
    },
    {
     "data": {
      "image/png": "[encoded data removed]",
      "text/plain": [
       "<Figure size 360x360 with 1 Axes>"
      ]
     },
     "metadata": {},
     "output_type": "display_data"
    }
   ],
   "source": [
    "y.value_counts().plot.barh()\n",
    "print(len(y[y['target']==0])/len(y[y['target']==1]))"
   ]
  },
  {
   "cell_type": "markdown",
   "metadata": {},
   "source": [
    "**Number of gaps in each feature**"
   ]
  },
  {
   "cell_type": "code",
   "execution_count": 7,
   "metadata": {},
   "outputs": [
    {
     "data": {
      "text/plain": [
       "credit_card_utilization           0\n",
       "age                               0\n",
       "overdue_30_59_days                0\n",
       "debt_to_income                    0\n",
       "monthly_income                20993\n",
       "credits_loans                     0\n",
       "overdue__more_than_90_days        0\n",
       "mortgage_loans                    0\n",
       "overdue_60_89_days                0\n",
       "family_members                 2805\n",
       "dtype: int64"
      ]
     },
     "execution_count": 7,
     "metadata": {},
     "output_type": "execute_result"
    }
   ],
   "source": [
    "train_df.isnull().sum()"
   ]
  },
  {
   "cell_type": "code",
   "execution_count": 8,
   "metadata": {},
   "outputs": [
    {
     "data": {
      "text/plain": [
       "credit_card_utilization          0\n",
       "age                              0\n",
       "overdue_30_59_days               0\n",
       "debt_to_income                   0\n",
       "monthly_income                7545\n",
       "credits_loans                    0\n",
       "overdue__more_than_90_days       0\n",
       "mortgage_loans                   0\n",
       "overdue_60_89_days               0\n",
       "family_members                 955\n",
       "dtype: int64"
      ]
     },
     "execution_count": 8,
     "metadata": {},
     "output_type": "execute_result"
    }
   ],
   "source": [
    "test_df.isnull().sum()"
   ]
  },
  {
   "cell_type": "markdown",
   "metadata": {},
   "source": [
    "**Replace gaps with median values**"
   ]
  },
  {
   "cell_type": "code",
   "execution_count": 12,
   "metadata": {},
   "outputs": [],
   "source": [
    "train_df['monthly_income'].fillna(train_df['monthly_income'].median(), inplace=True)\n",
    "train_df['family_members'].fillna(train_df['family_members'].median(), inplace=True)\n",
    "test_df['monthly_income'].fillna(test_df['monthly_income'].median(), inplace=True)\n",
    "test_df['family_members'].fillna(test_df['family_members'].median(), inplace=True)"
   ]
  },
  {
   "cell_type": "markdown",
   "metadata": {},
   "source": [
    "**Check the matrix of the correlation coefficient of numerical features**"
   ]
  },
  {
   "cell_type": "code",
   "execution_count": 14,
   "metadata": {},
   "outputs": [
    {
     "data": {
      "text/plain": [
       "<AxesSubplot:>"
      ]
     },
     "execution_count": 14,
     "metadata": {},
     "output_type": "execute_result"
    },
    {
     "data": {
      "image/png": "[encoded data removed]",
      "text/plain": [
       "<Figure size 504x504 with 2 Axes>"
      ]
     },
     "metadata": {},
     "output_type": "display_data"
    }
   ],
   "source": [
    "sns.set(font_scale = 1)\n",
    "fig, axis = plt.subplots(figsize=(7,7))\n",
    "sns.heatmap(train_df.corr().abs(), vmin=0, vmax=1, square=True,\n",
    "           annot=True, fmt=\".2f\", linewidths=0.1, cmap=\"YlGnBu\")"
   ]
  },
  {
   "cell_type": "markdown",
   "metadata": {},
   "source": [
    "**Standartizing for the data is not done since desicion tree based classifiers don't need it**"
   ]
  },
  {
   "cell_type": "code",
   "execution_count": 15,
   "metadata": {},
   "outputs": [],
   "source": [
    "# from sklearn.preprocessing import StandardScaler\n",
    "\n",
    "# ss = StandardScaler(with_mean=True, with_std=True)\n",
    "# train_df = ss.fit_transform(train_df) \n"
   ]
  },
  {
   "cell_type": "markdown",
   "metadata": {},
   "source": [
    "## Decision tree without tuned params"
   ]
  },
  {
   "cell_type": "code",
   "execution_count": 89,
   "metadata": {},
   "outputs": [
    {
     "data": {
      "text/plain": [
       "DecisionTreeClassifier(max_depth=3, random_state=17)"
      ]
     },
     "execution_count": 89,
     "metadata": {},
     "output_type": "execute_result"
    }
   ],
   "source": [
    "first_tree = DecisionTreeClassifier(random_state=17, max_depth=3)\n",
    "                                    \n",
    "first_tree.fit(train_df, y)"
   ]
  },
  {
   "cell_type": "code",
   "execution_count": 90,
   "metadata": {},
   "outputs": [],
   "source": [
    "# make the code for writing the prediction for Kaggle to the file\n",
    "\n",
    "def write_to_submission_file(predicted_labels, out_file,\n",
    "                             target='target', index_label=\"index\"):\n",
    "    # turn predictions into data frame and save as csv file\n",
    "    predicted_df = pd.DataFrame(predicted_labels,\n",
    "                                index = test_sample['index'].values,\n",
    "                                columns=[target])\n",
    "    predicted_df.to_csv(out_file, index_label=index_label)"
   ]
  },
  {
   "cell_type": "code",
   "execution_count": 91,
   "metadata": {},
   "outputs": [],
   "source": [
    "# make the prediction\n",
    "\n",
    "first_tree_pred_probs = first_tree.predict_proba(test_df)[:, 1]"
   ]
  },
  {
   "cell_type": "code",
   "execution_count": 92,
   "metadata": {},
   "outputs": [],
   "source": [
    "# write the prediction to the file\n",
    "\n",
    "write_to_submission_file(first_tree_pred_probs, \\\n",
    "                         r'C:\\\\Users\\\\pavlo\\\\Desktop\\\\Py\\\\VTB_project\\\\bank scoring case data 2019\\\\trial_1.csv')"
   ]
  },
  {
   "cell_type": "markdown",
   "metadata": {},
   "source": [
    "**Scores of Kaggle submission**\n",
    "- Private: 0.81700\n",
    "- Public: 0.81178"
   ]
  },
  {
   "cell_type": "markdown",
   "metadata": {},
   "source": [
    "## DecisionTreeClassifier with tuned params"
   ]
  },
  {
   "cell_type": "code",
   "execution_count": 106,
   "metadata": {},
   "outputs": [
    {
     "data": {
      "text/plain": [
       "GridSearchCV(cv=5, estimator=DecisionTreeClassifier(random_state=17), n_jobs=-1,\n",
       "             param_grid={'max_depth': [3, 4, 5, 6, 7],\n",
       "                         'min_samples_leaf': [5, 6, 7, 8, 9, 10, 11, 12]})"
      ]
     },
     "execution_count": 106,
     "metadata": {},
     "output_type": "execute_result"
    }
   ],
   "source": [
    "tree_params = {'max_depth': list(range(3, 8)), \n",
    "               'min_samples_leaf': list(range(5, 13))}\n",
    "\n",
    "clf = DecisionTreeClassifier(random_state=17)\n",
    "\n",
    "cv = StratifiedKFold(shuffle=True, n_splits=5)\n",
    "locally_best_tree = GridSearchCV(estimator=clf, param_grid=tree_params, cv=5, n_jobs=-1)\n",
    "locally_best_tree.fit(train_df, y) "
   ]
  },
  {
   "cell_type": "code",
   "execution_count": 107,
   "metadata": {},
   "outputs": [
    {
     "data": {
      "text/plain": [
       "({'max_depth': 4, 'min_samples_leaf': 5}, 0.937)"
      ]
     },
     "execution_count": 107,
     "metadata": {},
     "output_type": "execute_result"
    }
   ],
   "source": [
    "locally_best_tree.best_params_, round(locally_best_tree.best_score_, 3)"
   ]
  },
  {
   "cell_type": "code",
   "execution_count": 108,
   "metadata": {},
   "outputs": [],
   "source": [
    "tuned_tree_pred_probs = locally_best_tree.predict_proba(test_df)[:, 1]"
   ]
  },
  {
   "cell_type": "code",
   "execution_count": 109,
   "metadata": {},
   "outputs": [],
   "source": [
    "write_to_submission_file(tuned_tree_pred_probs, \\\n",
    "                         r'C:\\\\Users\\\\pavlo\\\\Desktop\\\\Py\\\\VTB_project\\\\bank scoring case data 2019\\\\trial_1.csv')"
   ]
  },
  {
   "cell_type": "markdown",
   "metadata": {},
   "source": [
    "**Scores of Kaggle submission**\n",
    "- Private: 0.83335\n",
    "- Public: 0.83012"
   ]
  },
  {
   "cell_type": "markdown",
   "metadata": {},
   "source": [
    "## RandomForest without tuned params"
   ]
  },
  {
   "cell_type": "code",
   "execution_count": 103,
   "metadata": {},
   "outputs": [
    {
     "data": {
      "text/plain": [
       "RandomForestClassifier(n_jobs=-1, random_state=17)"
      ]
     },
     "execution_count": 103,
     "metadata": {},
     "output_type": "execute_result"
    }
   ],
   "source": [
    "first_forest = RandomForestClassifier(random_state=17, n_jobs=-1)  \n",
    "                                    \n",
    "first_forest.fit(train_df, y)"
   ]
  },
  {
   "cell_type": "code",
   "execution_count": 104,
   "metadata": {},
   "outputs": [],
   "source": [
    "first_forest_pred = first_forest.predict_proba(test_df)[:, 1]"
   ]
  },
  {
   "cell_type": "code",
   "execution_count": 105,
   "metadata": {},
   "outputs": [],
   "source": [
    "write_to_submission_file(tuned_tree_pred_probs, \\\n",
    "                         r'C:\\\\Users\\\\pavlo\\\\Desktop\\\\Py\\\\VTB_project\\\\bank scoring case data 2019\\\\trial_1.csv')"
   ]
  },
  {
   "cell_type": "markdown",
   "metadata": {},
   "source": [
    "**Scores of Kaggle submission**\n",
    "- Private: 0.83335\n",
    "- Public: 0.83012"
   ]
  },
  {
   "cell_type": "markdown",
   "metadata": {},
   "source": [
    "## XGBoost + GridSearchCV & RandomisedSearchCV implementation"
   ]
  },
  {
   "cell_type": "code",
   "execution_count": 16,
   "metadata": {},
   "outputs": [],
   "source": [
    "# make the split onto train and test parts\n",
    "\n",
    "X_train, X_test, y_train, y_test = train_test_split(train_df, y, random_state=42, stratify=y)"
   ]
  },
  {
   "cell_type": "markdown",
   "metadata": {},
   "source": [
    "**Several GridSearchCV launches were made to find optimal values of the params**"
   ]
  },
  {
   "cell_type": "code",
   "execution_count": 36,
   "metadata": {},
   "outputs": [],
   "source": [
    "# ## ROUND 1\n",
    "# ## results {'gamma': 0.25, 'learning_rate': 0.1, 'max_depth': 5, 'reg_lambda': 10.0, 'scale_pos_weight': 1}\n",
    "# params = {\n",
    "#     'max_depth':[3, 4, 5], \n",
    "#     'learning_rate': [0.1, 0.01, 0.05],\n",
    "#     'gamma': [0, 0.25, 1.0], \n",
    "#     'reg_lambda': [0, 1.0, 10.0], \n",
    "#     'scale_pos_weight': [1, 3, 5], \n",
    "# }"
   ]
  },
  {
   "cell_type": "code",
   "execution_count": 37,
   "metadata": {},
   "outputs": [],
   "source": [
    "# ## ROUND 2\n",
    "# ## 'gamma': 0.3, 'learning_rate': 0.1, 'max_depth': 5, 'reg_lambda': 100, 'scale_pos_weight': 13\n",
    "# params = {\n",
    "#     'max_depth':[5, 6], \n",
    "#     'learning_rate': [0.1, 0.15, 0.2], \n",
    "#     'gamma': [0.25, 0.3, 0.35], \n",
    "#     'reg_lambda': [50, 100, 150], \n",
    "#     'scale_pos_weight': [13, 14, 15], \n",
    "# }"
   ]
  },
  {
   "cell_type": "code",
   "execution_count": 38,
   "metadata": {},
   "outputs": [],
   "source": [
    "# ## ROUND 3\n",
    "# ## {'gamma': 3, 'learning_rate': 0.1, 'max_depth': 5, 'reg_lambda': 130, 'scale_pos_weight': 13}\n",
    "# params = {\n",
    "#     'max_depth':[5], \n",
    "#     'learning_rate': [0.05, 0.1, 0.15], \n",
    "#     'gamma': [0.3], \n",
    "#     'reg_lambda': [80, 110, 130],\n",
    "#     'scale_pos_weight': [13], \n",
    "# }"
   ]
  },
  {
   "cell_type": "code",
   "execution_count": 39,
   "metadata": {},
   "outputs": [],
   "source": [
    "# ## ROUND 4\n",
    "# ## {'gamma': 0.3, 'learning_rate': 0.1, 'max_depth': 5, 'reg_lambda': 130, 'scale_pos_weight': 13}\n",
    "# params = {\n",
    "#     'max_depth':[5], \n",
    "#     'learning_rate': [0.05, 0.1, 0.15], \n",
    "#     'gamma': [0.3], \n",
    "#     'reg_lambda': [80, 110, 130],\n",
    "#     'scale_pos_weight': [13], \n",
    "# }"
   ]
  },
  {
   "cell_type": "code",
   "execution_count": 46,
   "metadata": {},
   "outputs": [],
   "source": [
    "# ## ROUND 5\n",
    "# ## {'gamma': 0.25, 'learning_rate': 0.15, 'max_depth': 5, 'reg_lambda': 150, 'scale_pos_weight': 13}\n",
    "# params = {\n",
    "#     'max_depth':[5], \n",
    "#     'learning_rate': [0.15],\n",
    "#     'gamma': [0.25], \n",
    "#     'reg_lambda': [150], \n",
    "#     'scale_pos_weight': [13],} "
   ]
  },
  {
   "cell_type": "code",
   "execution_count": null,
   "metadata": {},
   "outputs": [],
   "source": [
    "# GS_XGB2 = GridSearchCV(\n",
    "#     estimator=xgb.XGBClassifier(objective='binary:logistic', \n",
    "#                                 seed=42\n",
    "#                                 ), \n",
    "#     param_grid=params, \n",
    "#     cv=5, \n",
    "#     scoring='roc_auc',\n",
    "#     verbose=0,\n",
    "#     n_jobs=-1)\n",
    "\n",
    "# GS_XGB2.fit(X_train,\n",
    "#             y_train,\n",
    "#             verbose=False,\n",
    "#             early_stopping_rounds=10,\n",
    "#             eval_metric='auc',\n",
    "#            eval_set=[(X_test, y_test)])\n",
    "\n",
    "# print(GS_XGB2.best_params_)"
   ]
  },
  {
   "cell_type": "markdown",
   "metadata": {},
   "source": [
    "**For more precise params tuning RandomizedSearchCV was used**"
   ]
  },
  {
   "cell_type": "code",
   "execution_count": 37,
   "metadata": {},
   "outputs": [],
   "source": [
    "# RS_XGB2 = RandomizedSearchCV(\n",
    "#     estimator=xgb.XGBClassifier(objective='binary:logistic', \n",
    "#                                 seed=42,\n",
    "#                                 ), \n",
    "#     param_distributions=params, \n",
    "#     n_iter=300,\n",
    "#     cv=5, \n",
    "#     scoring='roc_auc',\n",
    "#     verbose=0,\n",
    "#     n_jobs=-1)\n",
    "# RS_XGB2.fit(X_train,\n",
    "#             y_train,\n",
    "#             verbose=False,\n",
    "#             # early_stopping_rounds=10,\n",
    "#             eval_metric='aucpr',\n",
    "#            eval_set=[(X_test, y_test)])\n",
    "# print(RS_XGB2.best_params_)"
   ]
  },
  {
   "cell_type": "markdown",
   "metadata": {},
   "source": [
    "**Final params**"
   ]
  },
  {
   "cell_type": "code",
   "execution_count": 110,
   "metadata": {},
   "outputs": [],
   "source": [
    "XGB=xgb.XGBClassifier(objective='binary:logistic', \n",
    "                                seed=42, \n",
    "                                subsample=0.7736842105263158, \n",
    "                                colsample_bytree=0.5533333333333333,\n",
    "                                reg_lambda=117,\n",
    "                                learning_rate=0.081,\n",
    "                                gamma=0.2444,\n",
    "                                max_depth=5,\n",
    "                                scale_pos_weight=13)"
   ]
  },
  {
   "cell_type": "code",
   "execution_count": 111,
   "metadata": {},
   "outputs": [
    {
     "data": {
      "text/plain": [
       "XGBClassifier(base_score=0.5, booster='gbtree', colsample_bylevel=1,\n",
       "              colsample_bynode=1, colsample_bytree=0.5533333333333333,\n",
       "              enable_categorical=False, gamma=0.2444, gpu_id=-1,\n",
       "              importance_type=None, interaction_constraints='',\n",
       "              learning_rate=0.081, max_delta_step=0, max_depth=5,\n",
       "              min_child_weight=1, missing=nan, monotone_constraints='()',\n",
       "              n_estimators=100, n_jobs=4, num_parallel_tree=1, predictor='auto',\n",
       "              random_state=42, reg_alpha=0, reg_lambda=117, scale_pos_weight=12,\n",
       "              seed=42, subsample=0.7736842105263158, tree_method='exact',\n",
       "              validate_parameters=1, verbosity=None)"
      ]
     },
     "execution_count": 111,
     "metadata": {},
     "output_type": "execute_result"
    }
   ],
   "source": [
    "XGB.fit(X_train,\n",
    "            y_train,\n",
    "            verbose=False,\n",
    "            early_stopping_rounds=10,    # The meaning of early_stopping_rounds is that if the ROC_AUC metric on the test \n",
    "            eval_metric='auc',           # dataset (eval_set) does not grow for ten iterations (trees building),                                   \n",
    "            eval_set=[(X_test, y_test)]) # then the algorithm will initiate force trees bulding stoppage."
   ]
  },
  {
   "cell_type": "code",
   "execution_count": 112,
   "metadata": {},
   "outputs": [
    {
     "data": {
      "text/plain": [
       "0.870877155376401"
      ]
     },
     "execution_count": 112,
     "metadata": {},
     "output_type": "execute_result"
    }
   ],
   "source": [
    "# Look at ROC_AUC\n",
    "\n",
    "roc_auc_score(y_test, XGB.predict_proba(X_test)[:, 1])"
   ]
  },
  {
   "cell_type": "code",
   "execution_count": null,
   "metadata": {},
   "outputs": [],
   "source": [
    "# make the prediction\n",
    "\n",
    "XGB_pred = XGB.predict_proba(test_df)[:, 1]"
   ]
  },
  {
   "cell_type": "code",
   "execution_count": null,
   "metadata": {},
   "outputs": [],
   "source": [
    "# write the prediction to the file\n",
    "\n",
    "write_to_submission_file(XGB_pred, \n",
    "                         r'C:\\\\Users\\\\pavlo\\\\Desktop\\\\Py\\\\VTB_project\\\\bank scoring case data 2019\\\\trial_1.csv')"
   ]
  },
  {
   "cell_type": "code",
   "execution_count": 84,
   "metadata": {},
   "outputs": [
    {
     "data": {
      "text/plain": [
       "<sklearn.metrics._plot.confusion_matrix.ConfusionMatrixDisplay at 0x261dada9dc0>"
      ]
     },
     "execution_count": 84,
     "metadata": {},
     "output_type": "execute_result"
    },
    {
     "data": {
      "image/png": "[encoded data removed]",
      "text/plain": [
       "<Figure size 432x288 with 2 Axes>"
      ]
     },
     "metadata": {},
     "output_type": "display_data"
    }
   ],
   "source": [
    "# Confusion Matrix\n",
    "\n",
    "plot_confusion_matrix(XGB,\n",
    "                      X_test,\n",
    "                      y_test,\n",
    "                     values_format='d',\n",
    "                      display_labels=[\"No_Default\", \"Default\"])"
   ]
  },
  {
   "cell_type": "code",
   "execution_count": 87,
   "metadata": {},
   "outputs": [
    {
     "data": {
      "text/html": [
       "<div>\n",
       "<style scoped>\n",
       "    .dataframe tbody tr th:only-of-type {\n",
       "        vertical-align: middle;\n",
       "    }\n",
       "\n",
       "    .dataframe tbody tr th {\n",
       "        vertical-align: top;\n",
       "    }\n",
       "\n",
       "    .dataframe thead th {\n",
       "        text-align: right;\n",
       "    }\n",
       "</style>\n",
       "<table border=\"1\" class=\"dataframe\">\n",
       "  <thead>\n",
       "    <tr style=\"text-align: right;\">\n",
       "      <th></th>\n",
       "      <th>importance</th>\n",
       "    </tr>\n",
       "  </thead>\n",
       "  <tbody>\n",
       "    <tr>\n",
       "      <th>credit_card_utilization</th>\n",
       "      <td>0.162837</td>\n",
       "    </tr>\n",
       "    <tr>\n",
       "      <th>age</th>\n",
       "      <td>0.028350</td>\n",
       "    </tr>\n",
       "    <tr>\n",
       "      <th>overdue_30_59_days</th>\n",
       "      <td>0.254248</td>\n",
       "    </tr>\n",
       "    <tr>\n",
       "      <th>debt_to_income</th>\n",
       "      <td>0.018576</td>\n",
       "    </tr>\n",
       "    <tr>\n",
       "      <th>monthly_income</th>\n",
       "      <td>0.013593</td>\n",
       "    </tr>\n",
       "    <tr>\n",
       "      <th>credits_loans</th>\n",
       "      <td>0.022843</td>\n",
       "    </tr>\n",
       "    <tr>\n",
       "      <th>overdue__more_than_90_days</th>\n",
       "      <td>0.261360</td>\n",
       "    </tr>\n",
       "    <tr>\n",
       "      <th>mortgage_loans</th>\n",
       "      <td>0.029936</td>\n",
       "    </tr>\n",
       "    <tr>\n",
       "      <th>overdue_60_89_days</th>\n",
       "      <td>0.192203</td>\n",
       "    </tr>\n",
       "    <tr>\n",
       "      <th>family_members</th>\n",
       "      <td>0.016053</td>\n",
       "    </tr>\n",
       "  </tbody>\n",
       "</table>\n",
       "</div>"
      ],
      "text/plain": [
       "                            importance\n",
       "credit_card_utilization       0.162837\n",
       "age                           0.028350\n",
       "overdue_30_59_days            0.254248\n",
       "debt_to_income                0.018576\n",
       "monthly_income                0.013593\n",
       "credits_loans                 0.022843\n",
       "overdue__more_than_90_days    0.261360\n",
       "mortgage_loans                0.029936\n",
       "overdue_60_89_days            0.192203\n",
       "family_members                0.016053"
      ]
     },
     "execution_count": 87,
     "metadata": {},
     "output_type": "execute_result"
    }
   ],
   "source": [
    "# Feature importance\n",
    "\n",
    "pd.DataFrame(XGB.feature_importances_,  index=train_df.columns, columns=['importance'])"
   ]
  },
  {
   "cell_type": "code",
   "execution_count": 86,
   "metadata": {},
   "outputs": [
    {
     "name": "stdout",
     "output_type": "stream",
     "text": [
      "                       feature  importance\n",
      "0     credit_card_utilization       447.0\n",
      "3              debt_to_income       441.0\n",
      "4              monthly_income       433.0\n",
      "1                         age       343.0\n",
      "5               credits_loans       302.0\n",
      "7              mortgage_loans       162.0\n",
      "2          overdue_30_59_days       133.0\n",
      "6  overdue__more_than_90_days       116.0\n",
      "9              family_members       114.0\n",
      "8          overdue_60_89_days       100.0\n"
     ]
    },
    {
     "data": {
      "text/plain": [
       "<AxesSubplot:title={'center':'Feature importance'}, xlabel='F score', ylabel='Features'>"
      ]
     },
     "execution_count": 86,
     "metadata": {},
     "output_type": "execute_result"
    },
    {
     "data": {
      "image/png": "[encoded data removed]",
      "text/plain": [
       "<Figure size 432x288 with 1 Axes>"
      ]
     },
     "metadata": {},
     "output_type": "display_data"
    }
   ],
   "source": [
    "import pandas as pd\n",
    "xgb_fea_imp=pd.DataFrame(list(XGB.get_booster().get_fscore().items()),\n",
    "columns=['feature','importance']).sort_values('importance', ascending=False)\n",
    "print('',xgb_fea_imp)\n",
    "xgb_fea_imp.to_csv('xgb_fea_imp.csv')\n",
    "\n",
    "from xgboost import plot_importance\n",
    "plot_importance(XGB, )"
   ]
  },
  {
   "cell_type": "markdown",
   "metadata": {},
   "source": [
    "## Voting ensemble"
   ]
  },
  {
   "cell_type": "markdown",
   "metadata": {},
   "source": [
    "**This Voting ensemble includes XGBoost models with previously found optimal params values that differ from each other only by the scale_pos_weight param value in the range from 1 to 13 with the pace of 0.5**"
   ]
  },
  {
   "cell_type": "code",
   "execution_count": null,
   "metadata": {},
   "outputs": [],
   "source": [
    "import numpy as np\n",
    "from sklearn.ensemble import VotingClassifier\n",
    "models = list()\n",
    "models.append(('clf1', xgb.XGBClassifier(objective='binary:logistic', \n",
    "                                seed=42, \n",
    "                                subsample=0.7736842105263158, \n",
    "                                colsample_bytree=0.5533333333333333,\n",
    "                                reg_lambda=117,\n",
    "                                learning_rate=0.081,\n",
    "                                gamma=0.24,\n",
    "                                max_depth=5,\n",
    "                                scale_pos_weight=2)))\n",
    "models.append(('clf1_2', xgb.XGBClassifier(objective='binary:logistic', \n",
    "                                seed=42, \n",
    "                                subsample=0.7736842105263158, \n",
    "                                colsample_bytree=0.5533333333333333,\n",
    "                                reg_lambda=117,\n",
    "                                learning_rate=0.081,\n",
    "                                gamma=0.24,\n",
    "                                max_depth=5,\n",
    "                                scale_pos_weight=2.5)))\n",
    "models.append(('clf2', xgb.XGBClassifier(objective='binary:logistic', \n",
    "                                seed=42, \n",
    "                                subsample=0.7736842105263158, \n",
    "                                colsample_bytree=0.5533333333333333,\n",
    "                                reg_lambda=117,\n",
    "                                learning_rate=0.081,\n",
    "                                gamma=0.24,\n",
    "                                max_depth=5,\n",
    "                                scale_pos_weight=3)))\n",
    "models.append(('clf2_2', xgb.XGBClassifier(objective='binary:logistic', \n",
    "                                seed=42, \n",
    "                                subsample=0.7736842105263158, \n",
    "                                colsample_bytree=0.5533333333333333,\n",
    "                                reg_lambda=117,\n",
    "                                learning_rate=0.081,\n",
    "                                gamma=0.24,\n",
    "                                max_depth=5,\n",
    "                                scale_pos_weight=3.5)))\n",
    "models.append(('clf3', xgb.XGBClassifier(objective='binary:logistic', \n",
    "                                seed=42, \n",
    "                                subsample=0.7736842105263158, \n",
    "                                colsample_bytree=0.5533333333333333,\n",
    "                                reg_lambda=117,\n",
    "                                learning_rate=0.081,\n",
    "                                gamma=0.24,\n",
    "                                max_depth=5,\n",
    "                                scale_pos_weight=4)))\n",
    "models.append(('clf3_2', xgb.XGBClassifier(objective='binary:logistic', \n",
    "                                seed=42, \n",
    "                                subsample=0.7736842105263158, \n",
    "                                colsample_bytree=0.5533333333333333,\n",
    "                                reg_lambda=117,\n",
    "                                learning_rate=0.081,\n",
    "                                gamma=0.24,\n",
    "                                max_depth=5,\n",
    "                                scale_pos_weight=4.5)))\n",
    "models.append(('clf4', xgb.XGBClassifier(objective='binary:logistic', \n",
    "                                seed=42, \n",
    "                                subsample=0.7736842105263158, \n",
    "                                colsample_bytree=0.5533333333333333,\n",
    "                                reg_lambda=117,\n",
    "                                learning_rate=0.081,\n",
    "                                gamma=0.24,\n",
    "                                max_depth=5,\n",
    "                                scale_pos_weight=5)))\n",
    "models.append(('clf4_2', xgb.XGBClassifier(objective='binary:logistic', \n",
    "                                seed=42, \n",
    "                                subsample=0.7736842105263158, \n",
    "                                colsample_bytree=0.5533333333333333,\n",
    "                                reg_lambda=117,\n",
    "                                learning_rate=0.081,\n",
    "                                gamma=0.24,\n",
    "                                max_depth=5,\n",
    "                                scale_pos_weight=5.5)))\n",
    "models.append(('clf5', xgb.XGBClassifier(objective='binary:logistic', \n",
    "                                seed=42, \n",
    "                                subsample=0.7736842105263158, \n",
    "                                colsample_bytree=0.5533333333333333,\n",
    "                                reg_lambda=117,\n",
    "                                learning_rate=0.081,\n",
    "                                gamma=0.24,\n",
    "                                max_depth=5,\n",
    "                                scale_pos_weight=6)))\n",
    "models.append(('clf5_2', xgb.XGBClassifier(objective='binary:logistic', \n",
    "                                seed=42, \n",
    "                                subsample=0.7736842105263158, \n",
    "                                colsample_bytree=0.5533333333333333,\n",
    "                                reg_lambda=117,\n",
    "                                learning_rate=0.081,\n",
    "                                gamma=0.24,\n",
    "                                max_depth=5,\n",
    "                                scale_pos_weight=6.5)))\n",
    "models.append(('clf6', xgb.XGBClassifier(objective='binary:logistic', \n",
    "                                seed=42, \n",
    "                                subsample=0.7736842105263158, \n",
    "                                colsample_bytree=0.5533333333333333,\n",
    "                                reg_lambda=117,\n",
    "                                learning_rate=0.081,\n",
    "                                gamma=0.24,\n",
    "                                max_depth=5,\n",
    "                                scale_pos_weight=7)))\n",
    "models.append(('clf6_2', xgb.XGBClassifier(objective='binary:logistic', \n",
    "                                seed=42, \n",
    "                                subsample=0.7736842105263158, \n",
    "                                colsample_bytree=0.5533333333333333,\n",
    "                                reg_lambda=117,\n",
    "                                learning_rate=0.081,\n",
    "                                gamma=0.24,\n",
    "                                max_depth=5,\n",
    "                                scale_pos_weight=7.5)))\n",
    "models.append(('clf7', xgb.XGBClassifier(objective='binary:logistic', \n",
    "                                seed=42, \n",
    "                                subsample=0.7736842105263158, \n",
    "                                colsample_bytree=0.5533333333333333,\n",
    "                                reg_lambda=117,\n",
    "                                learning_rate=0.081,\n",
    "                                gamma=0.24,\n",
    "                                max_depth=5,\n",
    "                                scale_pos_weight=8)))\n",
    "models.append(('clf7_2', xgb.XGBClassifier(objective='binary:logistic', \n",
    "                                seed=42, \n",
    "                                subsample=0.7736842105263158, \n",
    "                                colsample_bytree=0.5533333333333333,\n",
    "                                reg_lambda=117,\n",
    "                                learning_rate=0.081,\n",
    "                                gamma=0.24,\n",
    "                                max_depth=5,\n",
    "                                scale_pos_weight=8.5)))\n",
    "models.append(('clf8', xgb.XGBClassifier(objective='binary:logistic', \n",
    "                                seed=42, \n",
    "                                subsample=0.7736842105263158, \n",
    "                                colsample_bytree=0.5533333333333333,\n",
    "                                reg_lambda=117,\n",
    "                                learning_rate=0.081,\n",
    "                                gamma=0.24,\n",
    "                                max_depth=5,\n",
    "                                scale_pos_weight=9)))\n",
    "models.append(('clf8_2', xgb.XGBClassifier(objective='binary:logistic', \n",
    "                                seed=42, \n",
    "                                subsample=0.7736842105263158, \n",
    "                                colsample_bytree=0.5533333333333333,\n",
    "                                reg_lambda=117,\n",
    "                                learning_rate=0.081,\n",
    "                                gamma=0.24,\n",
    "                                max_depth=5,\n",
    "                                scale_pos_weight=9.5)))\n",
    "models.append(('clf9', xgb.XGBClassifier(objective='binary:logistic', \n",
    "                                seed=42, \n",
    "                                subsample=0.7736842105263158, \n",
    "                                colsample_bytree=0.5533333333333333,\n",
    "                                reg_lambda=117,\n",
    "                                learning_rate=0.081,\n",
    "                                gamma=0.24,\n",
    "                                max_depth=5,\n",
    "                                scale_pos_weight=10)))\n",
    "models.append(('clf9_2', xgb.XGBClassifier(objective='binary:logistic', \n",
    "                                seed=42, \n",
    "                                subsample=0.7736842105263158, \n",
    "                                colsample_bytree=0.5533333333333333,\n",
    "                                reg_lambda=117,\n",
    "                                learning_rate=0.081,\n",
    "                                gamma=0.24,\n",
    "                                max_depth=5,\n",
    "                                scale_pos_weight=10.5)))\n",
    "models.append(('clf10', xgb.XGBClassifier(objective='binary:logistic', \n",
    "                                seed=42, \n",
    "                                subsample=0.7736842105263158, \n",
    "                                colsample_bytree=0.5533333333333333,\n",
    "                                reg_lambda=117,\n",
    "                                learning_rate=0.081,\n",
    "                                gamma=0.24,\n",
    "                                max_depth=5,\n",
    "                                scale_pos_weight=11)))\n",
    "models.append(('clf10_2', xgb.XGBClassifier(objective='binary:logistic', \n",
    "                                seed=42, \n",
    "                                subsample=0.7736842105263158, \n",
    "                                colsample_bytree=0.5533333333333333,\n",
    "                                reg_lambda=117,\n",
    "                                learning_rate=0.081,\n",
    "                                gamma=0.24,\n",
    "                                max_depth=5,\n",
    "                                scale_pos_weight=11.5)))\n",
    "models.append(('clf11', xgb.XGBClassifier(objective='binary:logistic', \n",
    "                                seed=42, \n",
    "                                subsample=0.7736842105263158, \n",
    "                                colsample_bytree=0.5533333333333333,\n",
    "                                reg_lambda=117,\n",
    "                                learning_rate=0.081,\n",
    "                                gamma=0.24,\n",
    "                                max_depth=5,\n",
    "                                scale_pos_weight=12)))\n",
    "models.append(('clf11_2', xgb.XGBClassifier(objective='binary:logistic', \n",
    "                                seed=42, \n",
    "                                subsample=0.7736842105263158, \n",
    "                                colsample_bytree=0.5533333333333333,\n",
    "                                reg_lambda=117,\n",
    "                                learning_rate=0.081,\n",
    "                                gamma=0.24,\n",
    "                                max_depth=5,\n",
    "                                scale_pos_weight=12.5)))\n",
    "models.append(('clf12', xgb.XGBClassifier(objective='binary:logistic', \n",
    "                                seed=42, \n",
    "                                subsample=0.7736842105263158, \n",
    "                                colsample_bytree=0.5533333333333333,\n",
    "                                reg_lambda=117,\n",
    "                                learning_rate=0.081,\n",
    "                                gamma=0.24,\n",
    "                                max_depth=5,\n",
    "                                scale_pos_weight=13)))\n",
    "models.append(('clf12_2', xgb.XGBClassifier(objective='binary:logistic', \n",
    "                                seed=42, \n",
    "                                subsample=0.7736842105263158, \n",
    "                                colsample_bytree=0.5533333333333333,\n",
    "                                reg_lambda=117,\n",
    "                                learning_rate=0.081,\n",
    "                                gamma=0.24,\n",
    "                                max_depth=5,\n",
    "                                scale_pos_weight=13.5)))\n",
    "models.append(('clf13', xgb.XGBClassifier(objective='binary:logistic', \n",
    "                                seed=42, \n",
    "                                subsample=0.7736842105263158, \n",
    "                                colsample_bytree=0.5533333333333333,\n",
    "                                reg_lambda=117,\n",
    "                                learning_rate=0.081,\n",
    "                                gamma=0.24,\n",
    "                                max_depth=5,\n",
    "                                scale_pos_weight=1)))\n",
    "models.append(('clf13_2', xgb.XGBClassifier(objective='binary:logistic', \n",
    "                                seed=42, \n",
    "                                subsample=0.7736842105263158, \n",
    "                                colsample_bytree=0.5533333333333333,\n",
    "                                reg_lambda=117,\n",
    "                                learning_rate=0.081,\n",
    "                                gamma=0.24,\n",
    "                                max_depth=5,\n",
    "                                scale_pos_weight=1.5)))\n",
    "ensemble = VotingClassifier(estimators=models, voting='soft')\n",
    "ensemble.fit(train_df, y)"
   ]
  },
  {
   "cell_type": "code",
   "execution_count": null,
   "metadata": {},
   "outputs": [],
   "source": [
    "ensemble_pred = ensemble.predict_proba(test_df)[:, 1]"
   ]
  },
  {
   "cell_type": "code",
   "execution_count": null,
   "metadata": {},
   "outputs": [],
   "source": [
    "def write_to_submission_file(predicted_labels, out_file,\n",
    "                             target='target', index_label=\"index\"):\n",
    "    # turn predictions into data frame and save as csv file\n",
    "    predicted_df = pd.DataFrame(predicted_labels,\n",
    "                                index = test_sample['index'].values,\n",
    "                                columns=[target])\n",
    "    predicted_df.to_csv(out_file, index_label=index_label)"
   ]
  },
  {
   "cell_type": "code",
   "execution_count": null,
   "metadata": {},
   "outputs": [],
   "source": [
    "write_to_submission_file(ensemble_pred, r'./trial_1.csv')"
   ]
  }
 ],
 "metadata": {
  "anaconda-cloud": {},
  "kernelspec": {
   "display_name": "Python 3 (ipykernel)",
   "language": "python",
   "name": "python3"
  },
  "language_info": {
   "codemirror_mode": {
    "name": "ipython",
    "version": 3
   },
   "file_extension": ".py",
   "mimetype": "text/x-python",
   "name": "python",
   "nbconvert_exporter": "python",
   "pygments_lexer": "ipython3",
   "version": "3.9.7"
  }
 },
 "nbformat": 4,
 "nbformat_minor": 1
}
