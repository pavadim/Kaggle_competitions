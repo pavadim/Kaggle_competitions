{
 "cells": [
  {
   "cell_type": "markdown",
   "metadata": {
    "id": "8K-fqesUgchu"
   },
   "source": [
    "# Catch Me If You Can (\"Alice\")\n",
    "### Intruder Detection through Webpage Session Tracking\n",
    "\n",
    "***(Based on mlcourse.ai training materials)***"
   ]
  },
  {
   "cell_type": "code",
   "execution_count": 2,
   "metadata": {
    "id": "lRHl3NEjgchw"
   },
   "outputs": [],
   "source": [
    "import pickle\n",
    "\n",
    "import numpy as np\n",
    "import pandas as pd\n",
    "from scipy.sparse import csr_matrix, hstack\n",
    "\n",
    "from sklearn.linear_model import LogisticRegression\n",
    "from sklearn.metrics import roc_auc_score\n",
    "from sklearn.preprocessing import StandardScaler\n",
    "from tqdm import tqdm_notebook\n",
    "\n",
    "%matplotlib inline\n",
    "import seaborn as sns\n",
    "from matplotlib import pyplot as plt"
   ]
  },
  {
   "cell_type": "code",
   "execution_count": 3,
   "metadata": {
    "id": "jgU6xB_ogchy"
   },
   "outputs": [],
   "source": [
    "from scipy import sparse"
   ]
  },
  {
   "cell_type": "code",
   "execution_count": 4,
   "metadata": {
    "id": "_zlk6hTQgchz"
   },
   "outputs": [],
   "source": [
    "from sklearn.model_selection import train_test_split"
   ]
  },
  {
   "cell_type": "markdown",
   "metadata": {
    "id": "wno6pz50gch0"
   },
   "source": [
    "### 1. Loading and transforming data\n"
   ]
  },
  {
   "cell_type": "code",
   "execution_count": 5,
   "metadata": {
    "colab": {
     "base_uri": "https://localhost:8080/",
     "height": 455
    },
    "id": "zXm4mvt1gch0",
    "outputId": "3e05720d-3dd1-401f-9a31-7a587c728126"
   },
   "outputs": [
    {
     "data": {
      "text/html": [
       "\n",
       "  <div id=\"df-87f43bfa-b8b6-483c-9a81-d5482c9cb0db\">\n",
       "    <div class=\"colab-df-container\">\n",
       "      <div>\n",
       "<style scoped>\n",
       "    .dataframe tbody tr th:only-of-type {\n",
       "        vertical-align: middle;\n",
       "    }\n",
       "\n",
       "    .dataframe tbody tr th {\n",
       "        vertical-align: top;\n",
       "    }\n",
       "\n",
       "    .dataframe thead th {\n",
       "        text-align: right;\n",
       "    }\n",
       "</style>\n",
       "<table border=\"1\" class=\"dataframe\">\n",
       "  <thead>\n",
       "    <tr style=\"text-align: right;\">\n",
       "      <th></th>\n",
       "      <th>site1</th>\n",
       "      <th>time1</th>\n",
       "      <th>site2</th>\n",
       "      <th>time2</th>\n",
       "      <th>site3</th>\n",
       "      <th>time3</th>\n",
       "      <th>site4</th>\n",
       "      <th>time4</th>\n",
       "      <th>site5</th>\n",
       "      <th>time5</th>\n",
       "      <th>site6</th>\n",
       "      <th>time6</th>\n",
       "      <th>site7</th>\n",
       "      <th>time7</th>\n",
       "      <th>site8</th>\n",
       "      <th>time8</th>\n",
       "      <th>site9</th>\n",
       "      <th>time9</th>\n",
       "      <th>site10</th>\n",
       "      <th>time10</th>\n",
       "      <th>target</th>\n",
       "    </tr>\n",
       "    <tr>\n",
       "      <th>session_id</th>\n",
       "      <th></th>\n",
       "      <th></th>\n",
       "      <th></th>\n",
       "      <th></th>\n",
       "      <th></th>\n",
       "      <th></th>\n",
       "      <th></th>\n",
       "      <th></th>\n",
       "      <th></th>\n",
       "      <th></th>\n",
       "      <th></th>\n",
       "      <th></th>\n",
       "      <th></th>\n",
       "      <th></th>\n",
       "      <th></th>\n",
       "      <th></th>\n",
       "      <th></th>\n",
       "      <th></th>\n",
       "      <th></th>\n",
       "      <th></th>\n",
       "      <th></th>\n",
       "    </tr>\n",
       "  </thead>\n",
       "  <tbody>\n",
       "    <tr>\n",
       "      <th>21669</th>\n",
       "      <td>56</td>\n",
       "      <td>2013-01-12 08:05:57</td>\n",
       "      <td>55.0</td>\n",
       "      <td>2013-01-12 08:05:57</td>\n",
       "      <td>NaN</td>\n",
       "      <td>NaT</td>\n",
       "      <td>NaN</td>\n",
       "      <td>NaT</td>\n",
       "      <td>NaN</td>\n",
       "      <td>NaT</td>\n",
       "      <td>NaN</td>\n",
       "      <td>NaT</td>\n",
       "      <td>NaN</td>\n",
       "      <td>NaT</td>\n",
       "      <td>NaN</td>\n",
       "      <td>NaT</td>\n",
       "      <td>NaN</td>\n",
       "      <td>NaT</td>\n",
       "      <td>NaN</td>\n",
       "      <td>NaT</td>\n",
       "      <td>0</td>\n",
       "    </tr>\n",
       "    <tr>\n",
       "      <th>54843</th>\n",
       "      <td>56</td>\n",
       "      <td>2013-01-12 08:37:23</td>\n",
       "      <td>55.0</td>\n",
       "      <td>2013-01-12 08:37:23</td>\n",
       "      <td>56.0</td>\n",
       "      <td>2013-01-12 09:07:07</td>\n",
       "      <td>55.0</td>\n",
       "      <td>2013-01-12 09:07:09</td>\n",
       "      <td>NaN</td>\n",
       "      <td>NaT</td>\n",
       "      <td>NaN</td>\n",
       "      <td>NaT</td>\n",
       "      <td>NaN</td>\n",
       "      <td>NaT</td>\n",
       "      <td>NaN</td>\n",
       "      <td>NaT</td>\n",
       "      <td>NaN</td>\n",
       "      <td>NaT</td>\n",
       "      <td>NaN</td>\n",
       "      <td>NaT</td>\n",
       "      <td>0</td>\n",
       "    </tr>\n",
       "    <tr>\n",
       "      <th>77292</th>\n",
       "      <td>946</td>\n",
       "      <td>2013-01-12 08:50:13</td>\n",
       "      <td>946.0</td>\n",
       "      <td>2013-01-12 08:50:14</td>\n",
       "      <td>951.0</td>\n",
       "      <td>2013-01-12 08:50:15</td>\n",
       "      <td>946.0</td>\n",
       "      <td>2013-01-12 08:50:15</td>\n",
       "      <td>946.0</td>\n",
       "      <td>2013-01-12 08:50:16</td>\n",
       "      <td>945.0</td>\n",
       "      <td>2013-01-12 08:50:16</td>\n",
       "      <td>948.0</td>\n",
       "      <td>2013-01-12 08:50:16</td>\n",
       "      <td>784.0</td>\n",
       "      <td>2013-01-12 08:50:16</td>\n",
       "      <td>949.0</td>\n",
       "      <td>2013-01-12 08:50:17</td>\n",
       "      <td>946.0</td>\n",
       "      <td>2013-01-12 08:50:17</td>\n",
       "      <td>0</td>\n",
       "    </tr>\n",
       "    <tr>\n",
       "      <th>114021</th>\n",
       "      <td>945</td>\n",
       "      <td>2013-01-12 08:50:17</td>\n",
       "      <td>948.0</td>\n",
       "      <td>2013-01-12 08:50:17</td>\n",
       "      <td>949.0</td>\n",
       "      <td>2013-01-12 08:50:18</td>\n",
       "      <td>948.0</td>\n",
       "      <td>2013-01-12 08:50:18</td>\n",
       "      <td>945.0</td>\n",
       "      <td>2013-01-12 08:50:18</td>\n",
       "      <td>946.0</td>\n",
       "      <td>2013-01-12 08:50:18</td>\n",
       "      <td>947.0</td>\n",
       "      <td>2013-01-12 08:50:19</td>\n",
       "      <td>945.0</td>\n",
       "      <td>2013-01-12 08:50:19</td>\n",
       "      <td>946.0</td>\n",
       "      <td>2013-01-12 08:50:19</td>\n",
       "      <td>946.0</td>\n",
       "      <td>2013-01-12 08:50:20</td>\n",
       "      <td>0</td>\n",
       "    </tr>\n",
       "    <tr>\n",
       "      <th>146670</th>\n",
       "      <td>947</td>\n",
       "      <td>2013-01-12 08:50:20</td>\n",
       "      <td>950.0</td>\n",
       "      <td>2013-01-12 08:50:20</td>\n",
       "      <td>948.0</td>\n",
       "      <td>2013-01-12 08:50:20</td>\n",
       "      <td>947.0</td>\n",
       "      <td>2013-01-12 08:50:21</td>\n",
       "      <td>950.0</td>\n",
       "      <td>2013-01-12 08:50:21</td>\n",
       "      <td>952.0</td>\n",
       "      <td>2013-01-12 08:50:21</td>\n",
       "      <td>946.0</td>\n",
       "      <td>2013-01-12 08:50:21</td>\n",
       "      <td>951.0</td>\n",
       "      <td>2013-01-12 08:50:22</td>\n",
       "      <td>946.0</td>\n",
       "      <td>2013-01-12 08:50:22</td>\n",
       "      <td>947.0</td>\n",
       "      <td>2013-01-12 08:50:22</td>\n",
       "      <td>0</td>\n",
       "    </tr>\n",
       "  </tbody>\n",
       "</table>\n",
       "</div>\n",
       "      <button class=\"colab-df-convert\" onclick=\"convertToInteractive('df-87f43bfa-b8b6-483c-9a81-d5482c9cb0db')\"\n",
       "              title=\"Convert this dataframe to an interactive table.\"\n",
       "              style=\"display:none;\">\n",
       "        \n",
       "  <svg xmlns=\"http://www.w3.org/2000/svg\" height=\"24px\"viewBox=\"0 0 24 24\"\n",
       "       width=\"24px\">\n",
       "    <path d=\"M0 0h24v24H0V0z\" fill=\"none\"/>\n",
       "    <path d=\"M18.56 5.44l.94 2.06.94-2.06 2.06-.94-2.06-.94-.94-2.06-.94 2.06-2.06.94zm-11 1L8.5 8.5l.94-2.06 2.06-.94-2.06-.94L8.5 2.5l-.94 2.06-2.06.94zm10 10l.94 2.06.94-2.06 2.06-.94-2.06-.94-.94-2.06-.94 2.06-2.06.94z\"/><path d=\"M17.41 7.96l-1.37-1.37c-.4-.4-.92-.59-1.43-.59-.52 0-1.04.2-1.43.59L10.3 9.45l-7.72 7.72c-.78.78-.78 2.05 0 2.83L4 21.41c.39.39.9.59 1.41.59.51 0 1.02-.2 1.41-.59l7.78-7.78 2.81-2.81c.8-.78.8-2.07 0-2.86zM5.41 20L4 18.59l7.72-7.72 1.47 1.35L5.41 20z\"/>\n",
       "  </svg>\n",
       "      </button>\n",
       "      \n",
       "  <style>\n",
       "    .colab-df-container {\n",
       "      display:flex;\n",
       "      flex-wrap:wrap;\n",
       "      gap: 12px;\n",
       "    }\n",
       "\n",
       "    .colab-df-convert {\n",
       "      background-color: #E8F0FE;\n",
       "      border: none;\n",
       "      border-radius: 50%;\n",
       "      cursor: pointer;\n",
       "      display: none;\n",
       "      fill: #1967D2;\n",
       "      height: 32px;\n",
       "      padding: 0 0 0 0;\n",
       "      width: 32px;\n",
       "    }\n",
       "\n",
       "    .colab-df-convert:hover {\n",
       "      background-color: #E2EBFA;\n",
       "      box-shadow: 0px 1px 2px rgba(60, 64, 67, 0.3), 0px 1px 3px 1px rgba(60, 64, 67, 0.15);\n",
       "      fill: #174EA6;\n",
       "    }\n",
       "\n",
       "    [theme=dark] .colab-df-convert {\n",
       "      background-color: #3B4455;\n",
       "      fill: #D2E3FC;\n",
       "    }\n",
       "\n",
       "    [theme=dark] .colab-df-convert:hover {\n",
       "      background-color: #434B5C;\n",
       "      box-shadow: 0px 1px 3px 1px rgba(0, 0, 0, 0.15);\n",
       "      filter: drop-shadow(0px 1px 2px rgba(0, 0, 0, 0.3));\n",
       "      fill: #FFFFFF;\n",
       "    }\n",
       "  </style>\n",
       "\n",
       "      <script>\n",
       "        const buttonEl =\n",
       "          document.querySelector('#df-87f43bfa-b8b6-483c-9a81-d5482c9cb0db button.colab-df-convert');\n",
       "        buttonEl.style.display =\n",
       "          google.colab.kernel.accessAllowed ? 'block' : 'none';\n",
       "\n",
       "        async function convertToInteractive(key) {\n",
       "          const element = document.querySelector('#df-87f43bfa-b8b6-483c-9a81-d5482c9cb0db');\n",
       "          const dataTable =\n",
       "            await google.colab.kernel.invokeFunction('convertToInteractive',\n",
       "                                                     [key], {});\n",
       "          if (!dataTable) return;\n",
       "\n",
       "          const docLinkHtml = 'Like what you see? Visit the ' +\n",
       "            '<a target=\"_blank\" href=https://colab.research.google.com/notebooks/data_table.ipynb>data table notebook</a>'\n",
       "            + ' to learn more about interactive tables.';\n",
       "          element.innerHTML = '';\n",
       "          dataTable['output_type'] = 'display_data';\n",
       "          await google.colab.output.renderOutput(dataTable, element);\n",
       "          const docLink = document.createElement('div');\n",
       "          docLink.innerHTML = docLinkHtml;\n",
       "          element.appendChild(docLink);\n",
       "        }\n",
       "      </script>\n",
       "    </div>\n",
       "  </div>\n",
       "  "
      ],
      "text/plain": [
       "            site1               time1  ...              time10 target\n",
       "session_id                             ...                           \n",
       "21669          56 2013-01-12 08:05:57  ...                 NaT      0\n",
       "54843          56 2013-01-12 08:37:23  ...                 NaT      0\n",
       "77292         946 2013-01-12 08:50:13  ... 2013-01-12 08:50:17      0\n",
       "114021        945 2013-01-12 08:50:17  ... 2013-01-12 08:50:20      0\n",
       "146670        947 2013-01-12 08:50:20  ... 2013-01-12 08:50:22      0\n",
       "\n",
       "[5 rows x 21 columns]"
      ]
     },
     "execution_count": 5,
     "metadata": {},
     "output_type": "execute_result"
    }
   ],
   "source": [
    "train_df = pd.read_csv(\"/content/drive/MyDrive/Py/mlcourse.ai/project_alice/train_sessions.csv\", index_col=\"session_id\")\n",
    "test_df = pd.read_csv(\"/content/drive/MyDrive/Py/mlcourse.ai/project_alice/test_sessions.csv\", index_col=\"session_id\")\n",
    "\n",
    "times = [\"time%s\" % i for i in range(1, 11)]\n",
    "train_df[times] = train_df[times].apply(pd.to_datetime)\n",
    "test_df[times] = test_df[times].apply(pd.to_datetime)\n",
    "\n",
    "train_df = train_df.sort_values(by=\"time1\")\n",
    "\n",
    "train_df.head()"
   ]
  },
  {
   "cell_type": "markdown",
   "metadata": {
    "id": "zgfkrpFtgch3"
   },
   "source": [
    "  \n",
    "**User sessions are allocated in such a way that they cannot be longer than half an hour or 10 sites. That is, the session is considered ended either when the user has visited 10 sites in a row or when the session took more than 30 minutes.**\n",
    "\n",
    "**The table contains missing values, which means that the session consists of less than 10 sites. Replace the missing values with zeros and convert the signs to an integer type.**"
   ]
  },
  {
   "cell_type": "code",
   "execution_count": 38,
   "metadata": {
    "colab": {
     "base_uri": "https://localhost:8080/",
     "height": 206
    },
    "id": "e0CvlTv0gch4",
    "outputId": "5ce8b53e-7ab1-41e3-d3e0-b16273b7d429"
   },
   "outputs": [
    {
     "data": {
      "text/html": [
       "\n",
       "  <div id=\"df-f8a3884a-caf1-4d64-bee6-910623fcbace\">\n",
       "    <div class=\"colab-df-container\">\n",
       "      <div>\n",
       "<style scoped>\n",
       "    .dataframe tbody tr th:only-of-type {\n",
       "        vertical-align: middle;\n",
       "    }\n",
       "\n",
       "    .dataframe tbody tr th {\n",
       "        vertical-align: top;\n",
       "    }\n",
       "\n",
       "    .dataframe thead th {\n",
       "        text-align: right;\n",
       "    }\n",
       "</style>\n",
       "<table border=\"1\" class=\"dataframe\">\n",
       "  <thead>\n",
       "    <tr style=\"text-align: right;\">\n",
       "      <th></th>\n",
       "      <th>site</th>\n",
       "    </tr>\n",
       "  </thead>\n",
       "  <tbody>\n",
       "    <tr>\n",
       "      <th>25075</th>\n",
       "      <td>www.abmecatronique.com</td>\n",
       "    </tr>\n",
       "    <tr>\n",
       "      <th>13997</th>\n",
       "      <td>groups.live.com</td>\n",
       "    </tr>\n",
       "    <tr>\n",
       "      <th>42436</th>\n",
       "      <td>majeureliguefootball.wordpress.com</td>\n",
       "    </tr>\n",
       "    <tr>\n",
       "      <th>30911</th>\n",
       "      <td>cdt46.media.tourinsoft.eu</td>\n",
       "    </tr>\n",
       "    <tr>\n",
       "      <th>8104</th>\n",
       "      <td>www.hdwallpapers.eu</td>\n",
       "    </tr>\n",
       "  </tbody>\n",
       "</table>\n",
       "</div>\n",
       "      <button class=\"colab-df-convert\" onclick=\"convertToInteractive('df-f8a3884a-caf1-4d64-bee6-910623fcbace')\"\n",
       "              title=\"Convert this dataframe to an interactive table.\"\n",
       "              style=\"display:none;\">\n",
       "        \n",
       "  <svg xmlns=\"http://www.w3.org/2000/svg\" height=\"24px\"viewBox=\"0 0 24 24\"\n",
       "       width=\"24px\">\n",
       "    <path d=\"M0 0h24v24H0V0z\" fill=\"none\"/>\n",
       "    <path d=\"M18.56 5.44l.94 2.06.94-2.06 2.06-.94-2.06-.94-.94-2.06-.94 2.06-2.06.94zm-11 1L8.5 8.5l.94-2.06 2.06-.94-2.06-.94L8.5 2.5l-.94 2.06-2.06.94zm10 10l.94 2.06.94-2.06 2.06-.94-2.06-.94-.94-2.06-.94 2.06-2.06.94z\"/><path d=\"M17.41 7.96l-1.37-1.37c-.4-.4-.92-.59-1.43-.59-.52 0-1.04.2-1.43.59L10.3 9.45l-7.72 7.72c-.78.78-.78 2.05 0 2.83L4 21.41c.39.39.9.59 1.41.59.51 0 1.02-.2 1.41-.59l7.78-7.78 2.81-2.81c.8-.78.8-2.07 0-2.86zM5.41 20L4 18.59l7.72-7.72 1.47 1.35L5.41 20z\"/>\n",
       "  </svg>\n",
       "      </button>\n",
       "      \n",
       "  <style>\n",
       "    .colab-df-container {\n",
       "      display:flex;\n",
       "      flex-wrap:wrap;\n",
       "      gap: 12px;\n",
       "    }\n",
       "\n",
       "    .colab-df-convert {\n",
       "      background-color: #E8F0FE;\n",
       "      border: none;\n",
       "      border-radius: 50%;\n",
       "      cursor: pointer;\n",
       "      display: none;\n",
       "      fill: #1967D2;\n",
       "      height: 32px;\n",
       "      padding: 0 0 0 0;\n",
       "      width: 32px;\n",
       "    }\n",
       "\n",
       "    .colab-df-convert:hover {\n",
       "      background-color: #E2EBFA;\n",
       "      box-shadow: 0px 1px 2px rgba(60, 64, 67, 0.3), 0px 1px 3px 1px rgba(60, 64, 67, 0.15);\n",
       "      fill: #174EA6;\n",
       "    }\n",
       "\n",
       "    [theme=dark] .colab-df-convert {\n",
       "      background-color: #3B4455;\n",
       "      fill: #D2E3FC;\n",
       "    }\n",
       "\n",
       "    [theme=dark] .colab-df-convert:hover {\n",
       "      background-color: #434B5C;\n",
       "      box-shadow: 0px 1px 3px 1px rgba(0, 0, 0, 0.15);\n",
       "      filter: drop-shadow(0px 1px 2px rgba(0, 0, 0, 0.3));\n",
       "      fill: #FFFFFF;\n",
       "    }\n",
       "  </style>\n",
       "\n",
       "      <script>\n",
       "        const buttonEl =\n",
       "          document.querySelector('#df-f8a3884a-caf1-4d64-bee6-910623fcbace button.colab-df-convert');\n",
       "        buttonEl.style.display =\n",
       "          google.colab.kernel.accessAllowed ? 'block' : 'none';\n",
       "\n",
       "        async function convertToInteractive(key) {\n",
       "          const element = document.querySelector('#df-f8a3884a-caf1-4d64-bee6-910623fcbace');\n",
       "          const dataTable =\n",
       "            await google.colab.kernel.invokeFunction('convertToInteractive',\n",
       "                                                     [key], {});\n",
       "          if (!dataTable) return;\n",
       "\n",
       "          const docLinkHtml = 'Like what you see? Visit the ' +\n",
       "            '<a target=\"_blank\" href=https://colab.research.google.com/notebooks/data_table.ipynb>data table notebook</a>'\n",
       "            + ' to learn more about interactive tables.';\n",
       "          element.innerHTML = '';\n",
       "          dataTable['output_type'] = 'display_data';\n",
       "          await google.colab.output.renderOutput(dataTable, element);\n",
       "          const docLink = document.createElement('div');\n",
       "          docLink.innerHTML = docLinkHtml;\n",
       "          element.appendChild(docLink);\n",
       "        }\n",
       "      </script>\n",
       "    </div>\n",
       "  </div>\n",
       "  "
      ],
      "text/plain": [
       "                                     site\n",
       "25075              www.abmecatronique.com\n",
       "13997                     groups.live.com\n",
       "42436  majeureliguefootball.wordpress.com\n",
       "30911           cdt46.media.tourinsoft.eu\n",
       "8104                  www.hdwallpapers.eu"
      ]
     },
     "execution_count": 38,
     "metadata": {},
     "output_type": "execute_result"
    }
   ],
   "source": [
    "sites = [\"site%s\" % i for i in range(1, 11)]\n",
    "train_df[sites] = train_df[sites].fillna(0).astype(\"int\")\n",
    "test_df[sites] = test_df[sites].fillna(0).astype(\"int\")\n",
    "\n",
    "with open(r\"/content/drive/MyDrive/Py/mlcourse.ai/project_alice/site_dic.pkl\", \"rb\") as input_file:\n",
    "    site_dict = pickle.load(input_file)\n",
    "\n",
    "sites_dict_df = pd.DataFrame(\n",
    "    list(site_dict.keys()), index=list(site_dict.values()), columns=[\"site\"]\n",
    ")\n",
    "sites_dict_df.head()"
   ]
  },
  {
   "cell_type": "markdown",
   "metadata": {
    "id": "duNEf1-dgch5"
   },
   "source": [
    "**Select the target variable and merge the samples to bring them together to a sparse format.**"
   ]
  },
  {
   "cell_type": "code",
   "execution_count": 7,
   "metadata": {
    "id": "CnVh_-oGgch6"
   },
   "outputs": [],
   "source": [
    "y_train = train_df[\"target\"]\n",
    "\n",
    "# concatenated initial data  table\n",
    "full_df = pd.concat([train_df.drop(\"target\", axis=1), test_df])\n",
    "\n",
    "# index to split the concatenated table to train and test samples\n",
    "idx_split = train_df.shape[0]"
   ]
  },
  {
   "cell_type": "code",
   "execution_count": 8,
   "metadata": {
    "colab": {
     "base_uri": "https://localhost:8080/"
    },
    "id": "Qi2nBY7Tgch7",
    "outputId": "925f8383-0172-4223-87a3-79084806f98e"
   },
   "outputs": [
    {
     "data": {
      "text/plain": [
       "(253561,)"
      ]
     },
     "execution_count": 8,
     "metadata": {},
     "output_type": "execute_result"
    }
   ],
   "source": [
    "y_train.shape"
   ]
  },
  {
   "cell_type": "markdown",
   "metadata": {
    "id": "FKjcGVhvgch8"
   },
   "source": [
    "**For the very first model only visited sites in the session will be used  and the time features will not be included. The idea behind this choice for the model is that Alice has her favorite sites, and the more often you see these sites in a session, the more likely it is that this is Alice's session and vice versa.**"
   ]
  },
  {
   "cell_type": "code",
   "execution_count": 9,
   "metadata": {
    "colab": {
     "base_uri": "https://localhost:8080/",
     "height": 238
    },
    "id": "vTh4zm0-gch8",
    "outputId": "167a67e2-5063-4581-a2a2-057c757f18a8"
   },
   "outputs": [
    {
     "data": {
      "text/html": [
       "\n",
       "  <div id=\"df-bf8bfb5a-66b1-4046-a46e-1a58ef114507\">\n",
       "    <div class=\"colab-df-container\">\n",
       "      <div>\n",
       "<style scoped>\n",
       "    .dataframe tbody tr th:only-of-type {\n",
       "        vertical-align: middle;\n",
       "    }\n",
       "\n",
       "    .dataframe tbody tr th {\n",
       "        vertical-align: top;\n",
       "    }\n",
       "\n",
       "    .dataframe thead th {\n",
       "        text-align: right;\n",
       "    }\n",
       "</style>\n",
       "<table border=\"1\" class=\"dataframe\">\n",
       "  <thead>\n",
       "    <tr style=\"text-align: right;\">\n",
       "      <th></th>\n",
       "      <th>site1</th>\n",
       "      <th>site2</th>\n",
       "      <th>site3</th>\n",
       "      <th>site4</th>\n",
       "      <th>site5</th>\n",
       "      <th>site6</th>\n",
       "      <th>site7</th>\n",
       "      <th>site8</th>\n",
       "      <th>site9</th>\n",
       "      <th>site10</th>\n",
       "    </tr>\n",
       "    <tr>\n",
       "      <th>session_id</th>\n",
       "      <th></th>\n",
       "      <th></th>\n",
       "      <th></th>\n",
       "      <th></th>\n",
       "      <th></th>\n",
       "      <th></th>\n",
       "      <th></th>\n",
       "      <th></th>\n",
       "      <th></th>\n",
       "      <th></th>\n",
       "    </tr>\n",
       "  </thead>\n",
       "  <tbody>\n",
       "    <tr>\n",
       "      <th>21669</th>\n",
       "      <td>56</td>\n",
       "      <td>55</td>\n",
       "      <td>0</td>\n",
       "      <td>0</td>\n",
       "      <td>0</td>\n",
       "      <td>0</td>\n",
       "      <td>0</td>\n",
       "      <td>0</td>\n",
       "      <td>0</td>\n",
       "      <td>0</td>\n",
       "    </tr>\n",
       "    <tr>\n",
       "      <th>54843</th>\n",
       "      <td>56</td>\n",
       "      <td>55</td>\n",
       "      <td>56</td>\n",
       "      <td>55</td>\n",
       "      <td>0</td>\n",
       "      <td>0</td>\n",
       "      <td>0</td>\n",
       "      <td>0</td>\n",
       "      <td>0</td>\n",
       "      <td>0</td>\n",
       "    </tr>\n",
       "    <tr>\n",
       "      <th>77292</th>\n",
       "      <td>946</td>\n",
       "      <td>946</td>\n",
       "      <td>951</td>\n",
       "      <td>946</td>\n",
       "      <td>946</td>\n",
       "      <td>945</td>\n",
       "      <td>948</td>\n",
       "      <td>784</td>\n",
       "      <td>949</td>\n",
       "      <td>946</td>\n",
       "    </tr>\n",
       "    <tr>\n",
       "      <th>114021</th>\n",
       "      <td>945</td>\n",
       "      <td>948</td>\n",
       "      <td>949</td>\n",
       "      <td>948</td>\n",
       "      <td>945</td>\n",
       "      <td>946</td>\n",
       "      <td>947</td>\n",
       "      <td>945</td>\n",
       "      <td>946</td>\n",
       "      <td>946</td>\n",
       "    </tr>\n",
       "    <tr>\n",
       "      <th>146670</th>\n",
       "      <td>947</td>\n",
       "      <td>950</td>\n",
       "      <td>948</td>\n",
       "      <td>947</td>\n",
       "      <td>950</td>\n",
       "      <td>952</td>\n",
       "      <td>946</td>\n",
       "      <td>951</td>\n",
       "      <td>946</td>\n",
       "      <td>947</td>\n",
       "    </tr>\n",
       "  </tbody>\n",
       "</table>\n",
       "</div>\n",
       "      <button class=\"colab-df-convert\" onclick=\"convertToInteractive('df-bf8bfb5a-66b1-4046-a46e-1a58ef114507')\"\n",
       "              title=\"Convert this dataframe to an interactive table.\"\n",
       "              style=\"display:none;\">\n",
       "        \n",
       "  <svg xmlns=\"http://www.w3.org/2000/svg\" height=\"24px\"viewBox=\"0 0 24 24\"\n",
       "       width=\"24px\">\n",
       "    <path d=\"M0 0h24v24H0V0z\" fill=\"none\"/>\n",
       "    <path d=\"M18.56 5.44l.94 2.06.94-2.06 2.06-.94-2.06-.94-.94-2.06-.94 2.06-2.06.94zm-11 1L8.5 8.5l.94-2.06 2.06-.94-2.06-.94L8.5 2.5l-.94 2.06-2.06.94zm10 10l.94 2.06.94-2.06 2.06-.94-2.06-.94-.94-2.06-.94 2.06-2.06.94z\"/><path d=\"M17.41 7.96l-1.37-1.37c-.4-.4-.92-.59-1.43-.59-.52 0-1.04.2-1.43.59L10.3 9.45l-7.72 7.72c-.78.78-.78 2.05 0 2.83L4 21.41c.39.39.9.59 1.41.59.51 0 1.02-.2 1.41-.59l7.78-7.78 2.81-2.81c.8-.78.8-2.07 0-2.86zM5.41 20L4 18.59l7.72-7.72 1.47 1.35L5.41 20z\"/>\n",
       "  </svg>\n",
       "      </button>\n",
       "      \n",
       "  <style>\n",
       "    .colab-df-container {\n",
       "      display:flex;\n",
       "      flex-wrap:wrap;\n",
       "      gap: 12px;\n",
       "    }\n",
       "\n",
       "    .colab-df-convert {\n",
       "      background-color: #E8F0FE;\n",
       "      border: none;\n",
       "      border-radius: 50%;\n",
       "      cursor: pointer;\n",
       "      display: none;\n",
       "      fill: #1967D2;\n",
       "      height: 32px;\n",
       "      padding: 0 0 0 0;\n",
       "      width: 32px;\n",
       "    }\n",
       "\n",
       "    .colab-df-convert:hover {\n",
       "      background-color: #E2EBFA;\n",
       "      box-shadow: 0px 1px 2px rgba(60, 64, 67, 0.3), 0px 1px 3px 1px rgba(60, 64, 67, 0.15);\n",
       "      fill: #174EA6;\n",
       "    }\n",
       "\n",
       "    [theme=dark] .colab-df-convert {\n",
       "      background-color: #3B4455;\n",
       "      fill: #D2E3FC;\n",
       "    }\n",
       "\n",
       "    [theme=dark] .colab-df-convert:hover {\n",
       "      background-color: #434B5C;\n",
       "      box-shadow: 0px 1px 3px 1px rgba(0, 0, 0, 0.15);\n",
       "      filter: drop-shadow(0px 1px 2px rgba(0, 0, 0, 0.3));\n",
       "      fill: #FFFFFF;\n",
       "    }\n",
       "  </style>\n",
       "\n",
       "      <script>\n",
       "        const buttonEl =\n",
       "          document.querySelector('#df-bf8bfb5a-66b1-4046-a46e-1a58ef114507 button.colab-df-convert');\n",
       "        buttonEl.style.display =\n",
       "          google.colab.kernel.accessAllowed ? 'block' : 'none';\n",
       "\n",
       "        async function convertToInteractive(key) {\n",
       "          const element = document.querySelector('#df-bf8bfb5a-66b1-4046-a46e-1a58ef114507');\n",
       "          const dataTable =\n",
       "            await google.colab.kernel.invokeFunction('convertToInteractive',\n",
       "                                                     [key], {});\n",
       "          if (!dataTable) return;\n",
       "\n",
       "          const docLinkHtml = 'Like what you see? Visit the ' +\n",
       "            '<a target=\"_blank\" href=https://colab.research.google.com/notebooks/data_table.ipynb>data table notebook</a>'\n",
       "            + ' to learn more about interactive tables.';\n",
       "          element.innerHTML = '';\n",
       "          dataTable['output_type'] = 'display_data';\n",
       "          await google.colab.output.renderOutput(dataTable, element);\n",
       "          const docLink = document.createElement('div');\n",
       "          docLink.innerHTML = docLinkHtml;\n",
       "          element.appendChild(docLink);\n",
       "        }\n",
       "      </script>\n",
       "    </div>\n",
       "  </div>\n",
       "  "
      ],
      "text/plain": [
       "            site1  site2  site3  site4  ...  site7  site8  site9  site10\n",
       "session_id                              ...                             \n",
       "21669          56     55      0      0  ...      0      0      0       0\n",
       "54843          56     55     56     55  ...      0      0      0       0\n",
       "77292         946    946    951    946  ...    948    784    949     946\n",
       "114021        945    948    949    948  ...    947    945    946     946\n",
       "146670        947    950    948    947  ...    946    951    946     947\n",
       "\n",
       "[5 rows x 10 columns]"
      ]
     },
     "execution_count": 9,
     "metadata": {},
     "output_type": "execute_result"
    }
   ],
   "source": [
    "# табличка с индексами посещенных сайтов в сессии\n",
    "full_sites = full_df[sites]\n",
    "full_sites.head()"
   ]
  },
  {
   "cell_type": "markdown",
   "metadata": {
    "id": "gpbT4Csjgch9"
   },
   "source": [
    "**Sessions are a sequence of site indexes. Data in this form is inconvenient for linear methods. In accordance with our hypothesis (Alice has favorite sites), we need to transform this table so that each possible site has its own separate attribute (column), and its value would be equal to the number of visits to this site in a session.** \n",
    "\n",
    "**This transformation operation will be done with the use of sparse matrix.**"
   ]
  },
  {
   "cell_type": "code",
   "execution_count": 10,
   "metadata": {
    "id": "f2tS1V_4gch9"
   },
   "outputs": [],
   "source": [
    "from scipy.sparse import csr_matrix"
   ]
  },
  {
   "cell_type": "code",
   "execution_count": 11,
   "metadata": {
    "id": "ypm7KluJgch-"
   },
   "outputs": [],
   "source": [
    "# sequence with indices\n",
    "sites_flatten = full_sites.values.flatten()\n",
    "\n",
    "full_sites_sparse = csr_matrix(\n",
    "    (   [1] * sites_flatten.shape[0],\n",
    "        sites_flatten,\n",
    "        range(0, sites_flatten.shape[0] + 10, 10),\n",
    "    )\n",
    "                                )[:, 1:]"
   ]
  },
  {
   "cell_type": "code",
   "execution_count": 12,
   "metadata": {
    "colab": {
     "base_uri": "https://localhost:8080/"
    },
    "id": "gzksZ_Z7gch_",
    "outputId": "29d4f045-bd2f-44f0-8903-741e8c27852b"
   },
   "outputs": [
    {
     "data": {
      "text/plain": [
       "(336358, 48371)"
      ]
     },
     "execution_count": 12,
     "metadata": {},
     "output_type": "execute_result"
    }
   ],
   "source": [
    "full_sites_sparse.shape"
   ]
  },
  {
   "cell_type": "code",
   "execution_count": 13,
   "metadata": {
    "id": "PxD3ruYggch_"
   },
   "outputs": [],
   "source": [
    "full_sites_sparse_train = full_sites_sparse[:idx_split]"
   ]
  },
  {
   "cell_type": "code",
   "execution_count": 14,
   "metadata": {
    "id": "N2z6QhYrgciA"
   },
   "outputs": [],
   "source": [
    "full_sites_sparse_test = full_sites_sparse[idx_split:]"
   ]
  },
  {
   "cell_type": "markdown",
   "metadata": {
    "id": "JS0nAU-ugciA"
   },
   "source": [
    "\n",
    "### 2. Making the first model\n",
    "\n",
    "**The first model will be made with the the logistic regression from the sklearn package with default parameters. The first 90% of the data will be used for training (training sample is sorted by time), and the remaining 10% for quality control (validation).**"
   ]
  },
  {
   "cell_type": "markdown",
   "metadata": {
    "id": "AJDnkr1C6wVu"
   },
   "source": [
    "**Function that returns the quality of the model on lazy sampling and train our first classifier.**"
   ]
  },
  {
   "cell_type": "code",
   "execution_count": 15,
   "metadata": {
    "id": "iQS2eJwtgciA"
   },
   "outputs": [],
   "source": [
    "def get_auc_lr_valid(X, y, C=1.0, ratio=0.9, seed=17):\n",
    "\n",
    "    train_len = int(ratio * X.shape[0])\n",
    "    X_train = X[:train_len, :]\n",
    "    X_valid = X[train_len:, :]\n",
    "    y_train = y[:train_len]\n",
    "    y_valid = y[train_len:]\n",
    "    \n",
    "    logit = LogisticRegression(C=C, n_jobs=-1, random_state=seed)\n",
    "    \n",
    "    logit.fit(X_train, y_train)\n",
    "    \n",
    "    valid_pred = logit.predict_proba(X_valid)[:, 1]\n",
    "    \n",
    "    return roc_auc_score(y_valid, valid_pred)\n",
    " "
   ]
  },
  {
   "cell_type": "markdown",
   "metadata": {
    "id": "6Zvhs4RvgciB"
   },
   "source": [
    "**ROC AUC on a deferred sample**"
   ]
  },
  {
   "cell_type": "code",
   "execution_count": 16,
   "metadata": {
    "colab": {
     "base_uri": "https://localhost:8080/"
    },
    "id": "LZQljtyygciB",
    "outputId": "bb08c89f-0a5d-4cc0-e76c-e00959cb9290"
   },
   "outputs": [
    {
     "name": "stdout",
     "output_type": "stream",
     "text": [
      "CPU times: user 151 ms, sys: 62.8 ms, total: 214 ms\n",
      "Wall time: 4.52 s\n"
     ]
    },
    {
     "data": {
      "text/plain": [
       "0.9197955574958127"
      ]
     },
     "execution_count": 16,
     "metadata": {},
     "output_type": "execute_result"
    }
   ],
   "source": [
    "%%time\n",
    "get_auc_lr_valid(full_sites_sparse_train, y_train)"
   ]
  },
  {
   "cell_type": "markdown",
   "metadata": {
    "id": "Kxwu7TZFgciC"
   },
   "source": [
    "\n",
    "**To build a model for forecasting on a test sample the model wil be trained again on the entire training sample, that will increase algorithm generalizing ability:**"
   ]
  },
  {
   "cell_type": "code",
   "execution_count": 17,
   "metadata": {
    "id": "JWduASqHgciC"
   },
   "outputs": [],
   "source": [
    "logit = LogisticRegression(C=1.0, n_jobs=-1, random_state=17)\n",
    "    \n",
    "logit.fit(full_sites_sparse_train, y_train)\n",
    "\n",
    "# make a prediction on a test sample\n",
    "\n",
    "logit_pred = logit.predict_proba(full_sites_sparse_test)[:, 1]"
   ]
  },
  {
   "cell_type": "markdown",
   "metadata": {
    "id": "9Y7E509n6wVv"
   },
   "source": [
    "**Write prediction to a file and make a package to kaggle**"
   ]
  },
  {
   "cell_type": "code",
   "execution_count": 18,
   "metadata": {
    "id": "vtBfjDr-6wVw"
   },
   "outputs": [],
   "source": [
    "# function for writing forecasts to a file\n",
    "def write_to_submission_file(\n",
    "    predicted_labels, out_file, target=\"target\", index_label=\"session_id\"\n",
    "):\n",
    "    predicted_df = pd.DataFrame(\n",
    "        predicted_labels,\n",
    "        index=np.arange(1, predicted_labels.shape[0] + 1),\n",
    "        columns=[target],\n",
    "    )\n",
    "    predicted_df.to_csv(out_file, index_label=index_label)\n",
    "    print(predicted_df)"
   ]
  },
  {
   "cell_type": "code",
   "execution_count": 19,
   "metadata": {
    "colab": {
     "base_uri": "https://localhost:8080/"
    },
    "id": "WCfzzZekgciD",
    "outputId": "b395ccd4-4cde-40e8-b3ae-45c8fb3ff13f"
   },
   "outputs": [
    {
     "name": "stdout",
     "output_type": "stream",
     "text": [
      "             target\n",
      "1      2.219764e-03\n",
      "2      2.518962e-09\n",
      "3      6.160276e-09\n",
      "4      1.322690e-08\n",
      "5      2.729067e-05\n",
      "...             ...\n",
      "82793  1.330106e-05\n",
      "82794  1.242971e-05\n",
      "82795  8.433158e-03\n",
      "82796  3.878555e-04\n",
      "82797  1.295467e-05\n",
      "\n",
      "[82797 rows x 1 columns]\n"
     ]
    }
   ],
   "source": [
    "write_to_submission_file(\n",
    "    logit_pred, r'C:\\\\Users\\\\Pav\\\\Desktop\\\\Py\\\\mlcourse.ai\\\\predictions1.csv')"
   ]
  },
  {
   "cell_type": "markdown",
   "metadata": {
    "id": "KQ0unoFo6wVw"
   },
   "source": [
    "The score on Kaaggle is 0.90734"
   ]
  },
  {
   "cell_type": "markdown",
   "metadata": {
    "id": "hJbDipuGgciD"
   },
   "source": [
    "### 3. Model tuning"
   ]
  },
  {
   "cell_type": "markdown",
   "metadata": {
    "id": "9CXnutlKgciD"
   },
   "source": [
    "**Create a feature `month&year` which will be a number of the type YYYYMM from the date when the session took place, for example, 201407 - 2014 and 7 months**"
   ]
  },
  {
   "cell_type": "code",
   "execution_count": 20,
   "metadata": {
    "id": "-2AMFZU3gciE"
   },
   "outputs": [],
   "source": [
    "train_df['month&year'] = train_df['time1'].dt.year*100 + train_df['time1'].dt.month"
   ]
  },
  {
   "cell_type": "markdown",
   "metadata": {
    "id": "8T3fuZo-gciF"
   },
   "source": [
    "**Scale the feature using `StandardScaler`**"
   ]
  },
  {
   "cell_type": "code",
   "execution_count": 21,
   "metadata": {
    "colab": {
     "base_uri": "https://localhost:8080/"
    },
    "id": "3agzvdbxgciF",
    "outputId": "05f14b26-0a17-41d1-d49f-ac2c00740fc1"
   },
   "outputs": [
    {
     "data": {
      "text/plain": [
       "session_id\n",
       "21669    -1.744405\n",
       "54843    -1.744405\n",
       "77292    -1.744405\n",
       "114021   -1.744405\n",
       "146670   -1.744405\n",
       "            ...   \n",
       "12224     0.681626\n",
       "164438    0.681626\n",
       "12221     0.681626\n",
       "156968    0.681626\n",
       "204762    0.681626\n",
       "Name: month&year, Length: 253561, dtype: float64"
      ]
     },
     "execution_count": 21,
     "metadata": {},
     "output_type": "execute_result"
    }
   ],
   "source": [
    "ss = StandardScaler()\n",
    "a_scaled = ss.fit_transform(train_df['month&year'].values.reshape(-1, 1))\n",
    "train_df['month&year'] = a_scaled\n",
    "train_df['month&year']"
   ]
  },
  {
   "cell_type": "code",
   "execution_count": 22,
   "metadata": {
    "id": "GhlrDylcgciG"
   },
   "outputs": [],
   "source": [
    "# morning feature\n",
    "\n",
    "train_df['morning'] =  (train_df['time1'].dt.hour <=11)\n",
    "train_df['morning'] = train_df['morning'].astype(int)"
   ]
  },
  {
   "cell_type": "code",
   "execution_count": 23,
   "metadata": {
    "id": "Ktf0I-QvgciG"
   },
   "outputs": [],
   "source": [
    "# start_hour feature\n",
    "\n",
    "train_df['start_hour'] = train_df['time1'].dt.hour"
   ]
  },
  {
   "cell_type": "code",
   "execution_count": 24,
   "metadata": {
    "id": "67UYcOi-gciG"
   },
   "outputs": [],
   "source": [
    "# concatenating all new features in a separate dataframe\n",
    "\n",
    "new_feat_train_full = train_df[['month&year', 'start_hour', 'morning']]"
   ]
  },
  {
   "cell_type": "code",
   "execution_count": 25,
   "metadata": {
    "colab": {
     "base_uri": "https://localhost:8080/",
     "height": 455
    },
    "id": "yznmaa4SgciG",
    "outputId": "4156c4c6-a5ad-4606-8479-c5f7fa5d6ecb"
   },
   "outputs": [
    {
     "data": {
      "text/html": [
       "\n",
       "  <div id=\"df-26eb1803-da0c-413b-a112-689b056689d0\">\n",
       "    <div class=\"colab-df-container\">\n",
       "      <div>\n",
       "<style scoped>\n",
       "    .dataframe tbody tr th:only-of-type {\n",
       "        vertical-align: middle;\n",
       "    }\n",
       "\n",
       "    .dataframe tbody tr th {\n",
       "        vertical-align: top;\n",
       "    }\n",
       "\n",
       "    .dataframe thead th {\n",
       "        text-align: right;\n",
       "    }\n",
       "</style>\n",
       "<table border=\"1\" class=\"dataframe\">\n",
       "  <thead>\n",
       "    <tr style=\"text-align: right;\">\n",
       "      <th></th>\n",
       "      <th>month&amp;year</th>\n",
       "      <th>start_hour</th>\n",
       "      <th>morning</th>\n",
       "    </tr>\n",
       "    <tr>\n",
       "      <th>session_id</th>\n",
       "      <th></th>\n",
       "      <th></th>\n",
       "      <th></th>\n",
       "    </tr>\n",
       "  </thead>\n",
       "  <tbody>\n",
       "    <tr>\n",
       "      <th>21669</th>\n",
       "      <td>-1.744405</td>\n",
       "      <td>8</td>\n",
       "      <td>1</td>\n",
       "    </tr>\n",
       "    <tr>\n",
       "      <th>54843</th>\n",
       "      <td>-1.744405</td>\n",
       "      <td>8</td>\n",
       "      <td>1</td>\n",
       "    </tr>\n",
       "    <tr>\n",
       "      <th>77292</th>\n",
       "      <td>-1.744405</td>\n",
       "      <td>8</td>\n",
       "      <td>1</td>\n",
       "    </tr>\n",
       "    <tr>\n",
       "      <th>114021</th>\n",
       "      <td>-1.744405</td>\n",
       "      <td>8</td>\n",
       "      <td>1</td>\n",
       "    </tr>\n",
       "    <tr>\n",
       "      <th>146670</th>\n",
       "      <td>-1.744405</td>\n",
       "      <td>8</td>\n",
       "      <td>1</td>\n",
       "    </tr>\n",
       "    <tr>\n",
       "      <th>...</th>\n",
       "      <td>...</td>\n",
       "      <td>...</td>\n",
       "      <td>...</td>\n",
       "    </tr>\n",
       "    <tr>\n",
       "      <th>12224</th>\n",
       "      <td>0.681626</td>\n",
       "      <td>23</td>\n",
       "      <td>0</td>\n",
       "    </tr>\n",
       "    <tr>\n",
       "      <th>164438</th>\n",
       "      <td>0.681626</td>\n",
       "      <td>23</td>\n",
       "      <td>0</td>\n",
       "    </tr>\n",
       "    <tr>\n",
       "      <th>12221</th>\n",
       "      <td>0.681626</td>\n",
       "      <td>23</td>\n",
       "      <td>0</td>\n",
       "    </tr>\n",
       "    <tr>\n",
       "      <th>156968</th>\n",
       "      <td>0.681626</td>\n",
       "      <td>23</td>\n",
       "      <td>0</td>\n",
       "    </tr>\n",
       "    <tr>\n",
       "      <th>204762</th>\n",
       "      <td>0.681626</td>\n",
       "      <td>23</td>\n",
       "      <td>0</td>\n",
       "    </tr>\n",
       "  </tbody>\n",
       "</table>\n",
       "<p>253561 rows × 3 columns</p>\n",
       "</div>\n",
       "      <button class=\"colab-df-convert\" onclick=\"convertToInteractive('df-26eb1803-da0c-413b-a112-689b056689d0')\"\n",
       "              title=\"Convert this dataframe to an interactive table.\"\n",
       "              style=\"display:none;\">\n",
       "        \n",
       "  <svg xmlns=\"http://www.w3.org/2000/svg\" height=\"24px\"viewBox=\"0 0 24 24\"\n",
       "       width=\"24px\">\n",
       "    <path d=\"M0 0h24v24H0V0z\" fill=\"none\"/>\n",
       "    <path d=\"M18.56 5.44l.94 2.06.94-2.06 2.06-.94-2.06-.94-.94-2.06-.94 2.06-2.06.94zm-11 1L8.5 8.5l.94-2.06 2.06-.94-2.06-.94L8.5 2.5l-.94 2.06-2.06.94zm10 10l.94 2.06.94-2.06 2.06-.94-2.06-.94-.94-2.06-.94 2.06-2.06.94z\"/><path d=\"M17.41 7.96l-1.37-1.37c-.4-.4-.92-.59-1.43-.59-.52 0-1.04.2-1.43.59L10.3 9.45l-7.72 7.72c-.78.78-.78 2.05 0 2.83L4 21.41c.39.39.9.59 1.41.59.51 0 1.02-.2 1.41-.59l7.78-7.78 2.81-2.81c.8-.78.8-2.07 0-2.86zM5.41 20L4 18.59l7.72-7.72 1.47 1.35L5.41 20z\"/>\n",
       "  </svg>\n",
       "      </button>\n",
       "      \n",
       "  <style>\n",
       "    .colab-df-container {\n",
       "      display:flex;\n",
       "      flex-wrap:wrap;\n",
       "      gap: 12px;\n",
       "    }\n",
       "\n",
       "    .colab-df-convert {\n",
       "      background-color: #E8F0FE;\n",
       "      border: none;\n",
       "      border-radius: 50%;\n",
       "      cursor: pointer;\n",
       "      display: none;\n",
       "      fill: #1967D2;\n",
       "      height: 32px;\n",
       "      padding: 0 0 0 0;\n",
       "      width: 32px;\n",
       "    }\n",
       "\n",
       "    .colab-df-convert:hover {\n",
       "      background-color: #E2EBFA;\n",
       "      box-shadow: 0px 1px 2px rgba(60, 64, 67, 0.3), 0px 1px 3px 1px rgba(60, 64, 67, 0.15);\n",
       "      fill: #174EA6;\n",
       "    }\n",
       "\n",
       "    [theme=dark] .colab-df-convert {\n",
       "      background-color: #3B4455;\n",
       "      fill: #D2E3FC;\n",
       "    }\n",
       "\n",
       "    [theme=dark] .colab-df-convert:hover {\n",
       "      background-color: #434B5C;\n",
       "      box-shadow: 0px 1px 3px 1px rgba(0, 0, 0, 0.15);\n",
       "      filter: drop-shadow(0px 1px 2px rgba(0, 0, 0, 0.3));\n",
       "      fill: #FFFFFF;\n",
       "    }\n",
       "  </style>\n",
       "\n",
       "      <script>\n",
       "        const buttonEl =\n",
       "          document.querySelector('#df-26eb1803-da0c-413b-a112-689b056689d0 button.colab-df-convert');\n",
       "        buttonEl.style.display =\n",
       "          google.colab.kernel.accessAllowed ? 'block' : 'none';\n",
       "\n",
       "        async function convertToInteractive(key) {\n",
       "          const element = document.querySelector('#df-26eb1803-da0c-413b-a112-689b056689d0');\n",
       "          const dataTable =\n",
       "            await google.colab.kernel.invokeFunction('convertToInteractive',\n",
       "                                                     [key], {});\n",
       "          if (!dataTable) return;\n",
       "\n",
       "          const docLinkHtml = 'Like what you see? Visit the ' +\n",
       "            '<a target=\"_blank\" href=https://colab.research.google.com/notebooks/data_table.ipynb>data table notebook</a>'\n",
       "            + ' to learn more about interactive tables.';\n",
       "          element.innerHTML = '';\n",
       "          dataTable['output_type'] = 'display_data';\n",
       "          await google.colab.output.renderOutput(dataTable, element);\n",
       "          const docLink = document.createElement('div');\n",
       "          docLink.innerHTML = docLinkHtml;\n",
       "          element.appendChild(docLink);\n",
       "        }\n",
       "      </script>\n",
       "    </div>\n",
       "  </div>\n",
       "  "
      ],
      "text/plain": [
       "            month&year  start_hour  morning\n",
       "session_id                                 \n",
       "21669        -1.744405           8        1\n",
       "54843        -1.744405           8        1\n",
       "77292        -1.744405           8        1\n",
       "114021       -1.744405           8        1\n",
       "146670       -1.744405           8        1\n",
       "...                ...         ...      ...\n",
       "12224         0.681626          23        0\n",
       "164438        0.681626          23        0\n",
       "12221         0.681626          23        0\n",
       "156968        0.681626          23        0\n",
       "204762        0.681626          23        0\n",
       "\n",
       "[253561 rows x 3 columns]"
      ]
     },
     "execution_count": 25,
     "metadata": {},
     "output_type": "execute_result"
    }
   ],
   "source": [
    "new_feat_train_full"
   ]
  },
  {
   "cell_type": "markdown",
   "metadata": {
    "id": "BiDg1n1ngciH"
   },
   "source": [
    "**Add two new traits: `start_hour` and `morning`**\n",
    "\n",
    "The `start_hour` attribute is the hour at which the session started (from 0 to 23), and the binary attribute` morning` is 1 if the session started in the morning and 0 if the session started later (we will assume that it is morning if `start_hour is equal to` 11 or less).\n",
    "\n",
    "**Calculate ROC AUC on a lazy sample for a sample with**\n",
    "- sites, `month&year` и `start_hour`\n",
    "- sites, `month&year` и `morning`\n",
    "- sites, `month&year`, `start_hour` и `morning`"
   ]
  },
  {
   "cell_type": "code",
   "execution_count": 26,
   "metadata": {
    "id": "HOwNHu0MdEjA"
   },
   "outputs": [],
   "source": [
    "# Функция для расчета ROC AUC на отложенной выборке для разных сочетаний признаков\n",
    "\n",
    "def roc_auc_calculation(dropped_feat):\n",
    "    new_feats_train = new_feat_train_full.drop([dropped_feat], axis = 1)\n",
    "    sites_and_feats_train = sparse.hstack([full_sites_sparse_train, new_feats_train])\n",
    "    sites_and_feats_train = sites_and_feats_train.tocsr()\n",
    "    return(get_auc_lr_valid(sites_and_feats_train, y_train))"
   ]
  },
  {
   "cell_type": "code",
   "execution_count": 27,
   "metadata": {
    "colab": {
     "base_uri": "https://localhost:8080/"
    },
    "id": "OMUbMge5fXMi",
    "outputId": "048d8560-9bcd-4543-82b9-11fafb6b0df9"
   },
   "outputs": [
    {
     "data": {
      "text/plain": [
       "0.9566499742171244"
      ]
     },
     "execution_count": 27,
     "metadata": {},
     "output_type": "execute_result"
    }
   ],
   "source": [
    "# sites, start_month & start_hour\n",
    "\n",
    "roc_auc_calculation('morning')"
   ]
  },
  {
   "cell_type": "code",
   "execution_count": 28,
   "metadata": {
    "colab": {
     "base_uri": "https://localhost:8080/"
    },
    "id": "r2_QqG_WgpSK",
    "outputId": "891eea7d-3120-4d7c-fe23-80175cde9963"
   },
   "outputs": [
    {
     "data": {
      "text/plain": [
       "0.9477508063941531"
      ]
     },
     "execution_count": 28,
     "metadata": {},
     "output_type": "execute_result"
    }
   ],
   "source": [
    "# sites, start_month & morning\n",
    "\n",
    "roc_auc_calculation('start_hour')"
   ]
  },
  {
   "cell_type": "code",
   "execution_count": 29,
   "metadata": {
    "colab": {
     "base_uri": "https://localhost:8080/"
    },
    "id": "qN1NlBieg2eZ",
    "outputId": "1ddef241-53d3-42a5-92ae-4a709cded8d5"
   },
   "outputs": [
    {
     "data": {
      "text/plain": [
       "0.9582227598183243"
      ]
     },
     "execution_count": 29,
     "metadata": {},
     "output_type": "execute_result"
    }
   ],
   "source": [
    "# sites, start_month, start_hour & morning\n",
    "\n",
    "new_feats_train = new_feat_train_full\n",
    "sites_and_feats_train = sparse.hstack([full_sites_sparse_train, new_feats_train])\n",
    "sites_and_feats_train = sites_and_feats_train.tocsr()\n",
    "get_auc_lr_valid(sites_and_feats_train, y_train)"
   ]
  },
  {
   "cell_type": "code",
   "execution_count": 30,
   "metadata": {
    "colab": {
     "base_uri": "https://localhost:8080/"
    },
    "id": "B_PBCpu7-40b",
    "outputId": "0c734bce-7342-43fa-935e-7296c7470cf8"
   },
   "outputs": [
    {
     "data": {
      "text/plain": [
       "(253561, 48374)"
      ]
     },
     "execution_count": 30,
     "metadata": {},
     "output_type": "execute_result"
    }
   ],
   "source": [
    "sites_and_feats_train.shape"
   ]
  },
  {
   "cell_type": "markdown",
   "metadata": {
    "id": "-VIdn5h0mjU7"
   },
   "source": [
    "**The biggest score we get when all the features are used**"
   ]
  },
  {
   "cell_type": "markdown",
   "metadata": {
    "id": "CF35RrgmgciJ"
   },
   "source": [
    "### 4. Selection of the regularization coefficient in the interval `np.logspace(-3, 1, 10)` \n",
    "\n"
   ]
  },
  {
   "cell_type": "markdown",
   "metadata": {
    "id": "xV5S_cIX6wV1"
   },
   "source": [
    "**Find the `C` from` np.logspace (-3, 1, 10) `, at which the ROC AUC on the deferred sample is maximum.**"
   ]
  },
  {
   "cell_type": "code",
   "execution_count": 31,
   "metadata": {
    "id": "eHxbrjOKgciL"
   },
   "outputs": [],
   "source": [
    "# split the sample into deferred and training ones\n",
    "\n",
    "X_train1, X_valid1, y_train1, y_valid1 = train_test_split(sites_and_feats_train, y_train, test_size=0.1)\n"
   ]
  },
  {
   "cell_type": "code",
   "execution_count": 32,
   "metadata": {
    "id": "tecNrOkmgciM"
   },
   "outputs": [],
   "source": [
    "a = []\n",
    "C = list(np.logspace(-3, 1, 10)) \n",
    "\n",
    "# Loop for selection of the best regularization param\n",
    "for i in C:\n",
    "    logit = LogisticRegression(C=i, n_jobs=-1, random_state=17)\n",
    "    logit.fit(X_train1, y_train1)\n",
    "    valid_pred = logit.predict_proba(X_valid1)[:, 1]\n",
    "    a.append(roc_auc_score(y_valid1, valid_pred))"
   ]
  },
  {
   "cell_type": "code",
   "execution_count": 33,
   "metadata": {
    "colab": {
     "base_uri": "https://localhost:8080/"
    },
    "id": "nga_TmDOl4dy",
    "outputId": "bae7e686-294f-49aa-94a0-1c63a3d0ead4"
   },
   "outputs": [
    {
     "data": {
      "text/plain": [
       "1.2915496650148828"
      ]
     },
     "execution_count": 33,
     "metadata": {},
     "output_type": "execute_result"
    }
   ],
   "source": [
    "# Receive the best regularisation param\n",
    "index = a.index([max(a)])\n",
    "C[index]"
   ]
  },
  {
   "cell_type": "markdown",
   "metadata": {
    "id": "of77oC99gciN"
   },
   "source": [
    "**Train the model with the found optimal value of the regularization param and with all the features**"
   ]
  },
  {
   "cell_type": "markdown",
   "metadata": {
    "id": "gFesSuJV6wV2"
   },
   "source": [
    "**Firstly get all the test data in a sparce matrix form**"
   ]
  },
  {
   "cell_type": "code",
   "execution_count": 34,
   "metadata": {
    "id": "a1qLXZNKgciN"
   },
   "outputs": [],
   "source": [
    "full_sites_sparse_test = full_sites_sparse[idx_split:]\n",
    "\n",
    "# month&year\n",
    "\n",
    "test_df['month&year'] = test_df['time1'].dt.year*100 + test_df['time1'].dt.month\n",
    "\n",
    "ss = StandardScaler()\n",
    "a_scaled = ss.fit_transform(test_df['month&year'].values.reshape(-1, 1))\n",
    "test_df['month&year'] = a_scaled\n",
    "\n",
    "# morning\n",
    "\n",
    "test_df['morning'] =  (test_df['time1'].dt.hour <=11)\n",
    "test_df['morning'] = test_df['morning'].astype(int)\n",
    "\n",
    "# start_hour\n",
    "\n",
    "test_df['start_hour'] = test_df['time1'].dt.hour\n",
    "\n",
    "# All the new features\n",
    "\n",
    "new_feat_test_full = test_df[['month&year', 'start_hour', 'morning']]\n",
    "\n",
    "new_feats_test = new_feat_test_full\n",
    "sites_and_feats_test = sparse.hstack([full_sites_sparse_test, new_feats_test])\n",
    "sites_and_feats_test = sites_and_feats_test.tocsr()\n",
    "\n",
    "# concatenate all the new features with cites feature\n",
    "\n",
    "new_feats_test = new_feat_test_full\n",
    "sites_and_feats_test = sparse.hstack([full_sites_sparse_test, new_feats_test])\n",
    "sites_and_feats_test = sites_and_feats_test.tocsr()"
   ]
  },
  {
   "cell_type": "markdown",
   "metadata": {
    "id": "eyU0L6w475t0"
   },
   "source": [
    "**Secondly do training on the all train sample without splitting onto train and deferred sets and do the final prediction on the test set**"
   ]
  },
  {
   "cell_type": "code",
   "execution_count": 35,
   "metadata": {
    "id": "GGiljlx37aum"
   },
   "outputs": [],
   "source": [
    "logit = LogisticRegression(C=C[index], n_jobs=-1, random_state=17)\n",
    "logit.fit(sites_and_feats_train, y_train)\n",
    "Test_pred = logit.predict_proba(sites_and_feats_test)[:, 1]\n"
   ]
  },
  {
   "cell_type": "markdown",
   "metadata": {
    "id": "ojp_A79AXaxU"
   },
   "source": [
    "**Write prediction to a file and make a package to kaggle**"
   ]
  },
  {
   "cell_type": "code",
   "execution_count": 36,
   "metadata": {
    "colab": {
     "base_uri": "https://localhost:8080/"
    },
    "id": "loUxKXidXcFP",
    "outputId": "4c8bf729-a684-43b2-d646-c9239b998507"
   },
   "outputs": [
    {
     "name": "stdout",
     "output_type": "stream",
     "text": [
      "             target\n",
      "1      6.803758e-05\n",
      "2      4.674615e-14\n",
      "3      3.482106e-10\n",
      "4      2.360167e-09\n",
      "5      2.193073e-05\n",
      "...             ...\n",
      "82793  3.443585e-05\n",
      "82794  3.052532e-05\n",
      "82795  6.484673e-04\n",
      "82796  2.495609e-05\n",
      "82797  1.669314e-07\n",
      "\n",
      "[82797 rows x 1 columns]\n"
     ]
    }
   ],
   "source": [
    "write_to_submission_file(\n",
    "    Test_pred, r'/content/drive/MyDrive/Py/mlcourse.ai/project_alice/final_prediction.csv')"
   ]
  },
  {
   "cell_type": "markdown",
   "metadata": {
    "id": "MjhcOw12aNKo"
   },
   "source": [
    "**This prediction got a bigger score in comparison with the previous one with only cites feature (0.92889 and 0.90734 respectively)**"
   ]
  }
 ],
 "metadata": {
  "colab": {
   "collapsed_sections": [],
   "name": "lesson4_practice_alice_benchmarks.ipynb",
   "provenance": []
  },
  "kernelspec": {
   "display_name": "Python 3",
   "language": "python",
   "name": "python3"
  },
  "language_info": {
   "codemirror_mode": {
    "name": "ipython",
    "version": 3
   },
   "file_extension": ".py",
   "mimetype": "text/x-python",
   "name": "python",
   "nbconvert_exporter": "python",
   "pygments_lexer": "ipython3",
   "version": "3.7.6"
  }
 },
 "nbformat": 4,
 "nbformat_minor": 1
}
